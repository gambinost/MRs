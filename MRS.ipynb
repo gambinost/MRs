{
 "cells": [
  {
   "cell_type": "code",
   "execution_count": 28,
   "id": "11cff657-2109-4eb6-9e03-8ce464fbbc2f",
   "metadata": {},
   "outputs": [
    {
     "data": {
      "text/html": [
       "<div>\n",
       "<style scoped>\n",
       "    .dataframe tbody tr th:only-of-type {\n",
       "        vertical-align: middle;\n",
       "    }\n",
       "\n",
       "    .dataframe tbody tr th {\n",
       "        vertical-align: top;\n",
       "    }\n",
       "\n",
       "    .dataframe thead th {\n",
       "        text-align: right;\n",
       "    }\n",
       "</style>\n",
       "<table border=\"1\" class=\"dataframe\">\n",
       "  <thead>\n",
       "    <tr style=\"text-align: right;\">\n",
       "      <th></th>\n",
       "      <th>id</th>\n",
       "      <th>title</th>\n",
       "      <th>vote_average</th>\n",
       "      <th>vote_count</th>\n",
       "      <th>status</th>\n",
       "      <th>release_date</th>\n",
       "      <th>revenue</th>\n",
       "      <th>runtime</th>\n",
       "      <th>adult</th>\n",
       "      <th>backdrop_path</th>\n",
       "      <th>...</th>\n",
       "      <th>original_title</th>\n",
       "      <th>overview</th>\n",
       "      <th>popularity</th>\n",
       "      <th>poster_path</th>\n",
       "      <th>tagline</th>\n",
       "      <th>genres</th>\n",
       "      <th>production_companies</th>\n",
       "      <th>production_countries</th>\n",
       "      <th>spoken_languages</th>\n",
       "      <th>keywords</th>\n",
       "    </tr>\n",
       "  </thead>\n",
       "  <tbody>\n",
       "    <tr>\n",
       "      <th>0</th>\n",
       "      <td>27205</td>\n",
       "      <td>Inception</td>\n",
       "      <td>8.364</td>\n",
       "      <td>34495</td>\n",
       "      <td>Released</td>\n",
       "      <td>2010-07-15</td>\n",
       "      <td>825532764</td>\n",
       "      <td>148</td>\n",
       "      <td>False</td>\n",
       "      <td>/8ZTVqvKDQ8emSGUEMjsS4yHAwrp.jpg</td>\n",
       "      <td>...</td>\n",
       "      <td>Inception</td>\n",
       "      <td>Cobb, a skilled thief who commits corporate es...</td>\n",
       "      <td>83.952</td>\n",
       "      <td>/oYuLEt3zVCKq57qu2F8dT7NIa6f.jpg</td>\n",
       "      <td>Your mind is the scene of the crime.</td>\n",
       "      <td>Action, Science Fiction, Adventure</td>\n",
       "      <td>Legendary Pictures, Syncopy, Warner Bros. Pict...</td>\n",
       "      <td>United Kingdom, United States of America</td>\n",
       "      <td>English, French, Japanese, Swahili</td>\n",
       "      <td>rescue, mission, dream, airplane, paris, franc...</td>\n",
       "    </tr>\n",
       "    <tr>\n",
       "      <th>1</th>\n",
       "      <td>157336</td>\n",
       "      <td>Interstellar</td>\n",
       "      <td>8.417</td>\n",
       "      <td>32571</td>\n",
       "      <td>Released</td>\n",
       "      <td>2014-11-05</td>\n",
       "      <td>701729206</td>\n",
       "      <td>169</td>\n",
       "      <td>False</td>\n",
       "      <td>/pbrkL804c8yAv3zBZR4QPEafpAR.jpg</td>\n",
       "      <td>...</td>\n",
       "      <td>Interstellar</td>\n",
       "      <td>The adventures of a group of explorers who mak...</td>\n",
       "      <td>140.241</td>\n",
       "      <td>/gEU2QniE6E77NI6lCU6MxlNBvIx.jpg</td>\n",
       "      <td>Mankind was born on Earth. It was never meant ...</td>\n",
       "      <td>Adventure, Drama, Science Fiction</td>\n",
       "      <td>Legendary Pictures, Syncopy, Lynda Obst Produc...</td>\n",
       "      <td>United Kingdom, United States of America</td>\n",
       "      <td>English</td>\n",
       "      <td>rescue, future, spacecraft, race against time,...</td>\n",
       "    </tr>\n",
       "    <tr>\n",
       "      <th>2</th>\n",
       "      <td>155</td>\n",
       "      <td>The Dark Knight</td>\n",
       "      <td>8.512</td>\n",
       "      <td>30619</td>\n",
       "      <td>Released</td>\n",
       "      <td>2008-07-16</td>\n",
       "      <td>1004558444</td>\n",
       "      <td>152</td>\n",
       "      <td>False</td>\n",
       "      <td>/nMKdUUepR0i5zn0y1T4CsSB5chy.jpg</td>\n",
       "      <td>...</td>\n",
       "      <td>The Dark Knight</td>\n",
       "      <td>Batman raises the stakes in his war on crime. ...</td>\n",
       "      <td>130.643</td>\n",
       "      <td>/qJ2tW6WMUDux911r6m7haRef0WH.jpg</td>\n",
       "      <td>Welcome to a world without rules.</td>\n",
       "      <td>Drama, Action, Crime, Thriller</td>\n",
       "      <td>DC Comics, Legendary Pictures, Syncopy, Isobel...</td>\n",
       "      <td>United Kingdom, United States of America</td>\n",
       "      <td>English, Mandarin</td>\n",
       "      <td>joker, sadism, chaos, secret identity, crime f...</td>\n",
       "    </tr>\n",
       "    <tr>\n",
       "      <th>3</th>\n",
       "      <td>19995</td>\n",
       "      <td>Avatar</td>\n",
       "      <td>7.573</td>\n",
       "      <td>29815</td>\n",
       "      <td>Released</td>\n",
       "      <td>2009-12-15</td>\n",
       "      <td>2923706026</td>\n",
       "      <td>162</td>\n",
       "      <td>False</td>\n",
       "      <td>/vL5LR6WdxWPjLPFRLe133jXWsh5.jpg</td>\n",
       "      <td>...</td>\n",
       "      <td>Avatar</td>\n",
       "      <td>In the 22nd century, a paraplegic Marine is di...</td>\n",
       "      <td>79.932</td>\n",
       "      <td>/kyeqWdyUXW608qlYkRqosgbbJyK.jpg</td>\n",
       "      <td>Enter the world of Pandora.</td>\n",
       "      <td>Action, Adventure, Fantasy, Science Fiction</td>\n",
       "      <td>Dune Entertainment, Lightstorm Entertainment, ...</td>\n",
       "      <td>United States of America, United Kingdom</td>\n",
       "      <td>English, Spanish</td>\n",
       "      <td>future, society, culture clash, space travel, ...</td>\n",
       "    </tr>\n",
       "    <tr>\n",
       "      <th>4</th>\n",
       "      <td>24428</td>\n",
       "      <td>The Avengers</td>\n",
       "      <td>7.710</td>\n",
       "      <td>29166</td>\n",
       "      <td>Released</td>\n",
       "      <td>2012-04-25</td>\n",
       "      <td>1518815515</td>\n",
       "      <td>143</td>\n",
       "      <td>False</td>\n",
       "      <td>/9BBTo63ANSmhC4e6r62OJFuK2GL.jpg</td>\n",
       "      <td>...</td>\n",
       "      <td>The Avengers</td>\n",
       "      <td>When an unexpected enemy emerges and threatens...</td>\n",
       "      <td>98.082</td>\n",
       "      <td>/RYMX2wcKCBAr24UyPD7xwmjaTn.jpg</td>\n",
       "      <td>Some assembly required.</td>\n",
       "      <td>Science Fiction, Action, Adventure</td>\n",
       "      <td>Marvel Studios</td>\n",
       "      <td>United States of America</td>\n",
       "      <td>English, Hindi, Russian</td>\n",
       "      <td>new york city, superhero, shield, based on com...</td>\n",
       "    </tr>\n",
       "  </tbody>\n",
       "</table>\n",
       "<p>5 rows × 24 columns</p>\n",
       "</div>"
      ],
      "text/plain": [
       "       id            title  vote_average  vote_count    status release_date  \\\n",
       "0   27205        Inception         8.364       34495  Released   2010-07-15   \n",
       "1  157336     Interstellar         8.417       32571  Released   2014-11-05   \n",
       "2     155  The Dark Knight         8.512       30619  Released   2008-07-16   \n",
       "3   19995           Avatar         7.573       29815  Released   2009-12-15   \n",
       "4   24428     The Avengers         7.710       29166  Released   2012-04-25   \n",
       "\n",
       "      revenue  runtime  adult                     backdrop_path  ...  \\\n",
       "0   825532764      148  False  /8ZTVqvKDQ8emSGUEMjsS4yHAwrp.jpg  ...   \n",
       "1   701729206      169  False  /pbrkL804c8yAv3zBZR4QPEafpAR.jpg  ...   \n",
       "2  1004558444      152  False  /nMKdUUepR0i5zn0y1T4CsSB5chy.jpg  ...   \n",
       "3  2923706026      162  False  /vL5LR6WdxWPjLPFRLe133jXWsh5.jpg  ...   \n",
       "4  1518815515      143  False  /9BBTo63ANSmhC4e6r62OJFuK2GL.jpg  ...   \n",
       "\n",
       "    original_title                                           overview  \\\n",
       "0        Inception  Cobb, a skilled thief who commits corporate es...   \n",
       "1     Interstellar  The adventures of a group of explorers who mak...   \n",
       "2  The Dark Knight  Batman raises the stakes in his war on crime. ...   \n",
       "3           Avatar  In the 22nd century, a paraplegic Marine is di...   \n",
       "4     The Avengers  When an unexpected enemy emerges and threatens...   \n",
       "\n",
       "  popularity                       poster_path  \\\n",
       "0     83.952  /oYuLEt3zVCKq57qu2F8dT7NIa6f.jpg   \n",
       "1    140.241  /gEU2QniE6E77NI6lCU6MxlNBvIx.jpg   \n",
       "2    130.643  /qJ2tW6WMUDux911r6m7haRef0WH.jpg   \n",
       "3     79.932  /kyeqWdyUXW608qlYkRqosgbbJyK.jpg   \n",
       "4     98.082   /RYMX2wcKCBAr24UyPD7xwmjaTn.jpg   \n",
       "\n",
       "                                             tagline  \\\n",
       "0               Your mind is the scene of the crime.   \n",
       "1  Mankind was born on Earth. It was never meant ...   \n",
       "2                  Welcome to a world without rules.   \n",
       "3                        Enter the world of Pandora.   \n",
       "4                            Some assembly required.   \n",
       "\n",
       "                                        genres  \\\n",
       "0           Action, Science Fiction, Adventure   \n",
       "1            Adventure, Drama, Science Fiction   \n",
       "2               Drama, Action, Crime, Thriller   \n",
       "3  Action, Adventure, Fantasy, Science Fiction   \n",
       "4           Science Fiction, Action, Adventure   \n",
       "\n",
       "                                production_companies  \\\n",
       "0  Legendary Pictures, Syncopy, Warner Bros. Pict...   \n",
       "1  Legendary Pictures, Syncopy, Lynda Obst Produc...   \n",
       "2  DC Comics, Legendary Pictures, Syncopy, Isobel...   \n",
       "3  Dune Entertainment, Lightstorm Entertainment, ...   \n",
       "4                                     Marvel Studios   \n",
       "\n",
       "                       production_countries  \\\n",
       "0  United Kingdom, United States of America   \n",
       "1  United Kingdom, United States of America   \n",
       "2  United Kingdom, United States of America   \n",
       "3  United States of America, United Kingdom   \n",
       "4                  United States of America   \n",
       "\n",
       "                     spoken_languages  \\\n",
       "0  English, French, Japanese, Swahili   \n",
       "1                             English   \n",
       "2                   English, Mandarin   \n",
       "3                    English, Spanish   \n",
       "4             English, Hindi, Russian   \n",
       "\n",
       "                                            keywords  \n",
       "0  rescue, mission, dream, airplane, paris, franc...  \n",
       "1  rescue, future, spacecraft, race against time,...  \n",
       "2  joker, sadism, chaos, secret identity, crime f...  \n",
       "3  future, society, culture clash, space travel, ...  \n",
       "4  new york city, superhero, shield, based on com...  \n",
       "\n",
       "[5 rows x 24 columns]"
      ]
     },
     "execution_count": 28,
     "metadata": {},
     "output_type": "execute_result"
    }
   ],
   "source": [
    "import pandas as pd\n",
    "df=pd.read_csv(r\"C:\\Users\\CompuFast\\OneDrive\\Desktop\\TMDB_movie_dataset_v11.csv\",header=0)\n",
    "df.head()"
   ]
  },
  {
   "cell_type": "code",
   "execution_count": 29,
   "id": "1ad2f830-3060-484a-9e7f-cb406786c0de",
   "metadata": {},
   "outputs": [
    {
     "data": {
      "text/plain": [
       "Index(['id', 'title', 'vote_average', 'vote_count', 'status', 'release_date',\n",
       "       'revenue', 'runtime', 'adult', 'backdrop_path', 'budget', 'homepage',\n",
       "       'imdb_id', 'original_language', 'original_title', 'overview',\n",
       "       'popularity', 'poster_path', 'tagline', 'genres',\n",
       "       'production_companies', 'production_countries', 'spoken_languages',\n",
       "       'keywords'],\n",
       "      dtype='object')"
      ]
     },
     "execution_count": 29,
     "metadata": {},
     "output_type": "execute_result"
    }
   ],
   "source": [
    "df.columns"
   ]
  },
  {
   "cell_type": "code",
   "execution_count": 30,
   "id": "d939e69c-e9e8-406a-9ba7-cda58667a93d",
   "metadata": {},
   "outputs": [
    {
     "data": {
      "text/html": [
       "<div>\n",
       "<style scoped>\n",
       "    .dataframe tbody tr th:only-of-type {\n",
       "        vertical-align: middle;\n",
       "    }\n",
       "\n",
       "    .dataframe tbody tr th {\n",
       "        vertical-align: top;\n",
       "    }\n",
       "\n",
       "    .dataframe thead th {\n",
       "        text-align: right;\n",
       "    }\n",
       "</style>\n",
       "<table border=\"1\" class=\"dataframe\">\n",
       "  <thead>\n",
       "    <tr style=\"text-align: right;\">\n",
       "      <th></th>\n",
       "      <th>id</th>\n",
       "      <th>vote_average</th>\n",
       "      <th>vote_count</th>\n",
       "      <th>revenue</th>\n",
       "      <th>runtime</th>\n",
       "      <th>budget</th>\n",
       "      <th>popularity</th>\n",
       "    </tr>\n",
       "  </thead>\n",
       "  <tbody>\n",
       "    <tr>\n",
       "      <th>count</th>\n",
       "      <td>1.058675e+06</td>\n",
       "      <td>1.058675e+06</td>\n",
       "      <td>1.058675e+06</td>\n",
       "      <td>1.058675e+06</td>\n",
       "      <td>1.058675e+06</td>\n",
       "      <td>1.058675e+06</td>\n",
       "      <td>1.058675e+06</td>\n",
       "    </tr>\n",
       "    <tr>\n",
       "      <th>mean</th>\n",
       "      <td>6.956178e+05</td>\n",
       "      <td>2.002076e+00</td>\n",
       "      <td>2.025814e+01</td>\n",
       "      <td>7.157280e+05</td>\n",
       "      <td>4.944329e+01</td>\n",
       "      <td>2.805240e+05</td>\n",
       "      <td>1.293365e+00</td>\n",
       "    </tr>\n",
       "    <tr>\n",
       "      <th>std</th>\n",
       "      <td>3.723586e+05</td>\n",
       "      <td>3.072888e+00</td>\n",
       "      <td>3.299876e+02</td>\n",
       "      <td>1.799855e+07</td>\n",
       "      <td>6.205908e+01</td>\n",
       "      <td>5.057937e+06</td>\n",
       "      <td>7.857289e+00</td>\n",
       "    </tr>\n",
       "    <tr>\n",
       "      <th>min</th>\n",
       "      <td>2.000000e+00</td>\n",
       "      <td>0.000000e+00</td>\n",
       "      <td>0.000000e+00</td>\n",
       "      <td>-1.200000e+01</td>\n",
       "      <td>-2.800000e+01</td>\n",
       "      <td>0.000000e+00</td>\n",
       "      <td>0.000000e+00</td>\n",
       "    </tr>\n",
       "    <tr>\n",
       "      <th>25%</th>\n",
       "      <td>3.876335e+05</td>\n",
       "      <td>0.000000e+00</td>\n",
       "      <td>0.000000e+00</td>\n",
       "      <td>0.000000e+00</td>\n",
       "      <td>0.000000e+00</td>\n",
       "      <td>0.000000e+00</td>\n",
       "      <td>6.000000e-01</td>\n",
       "    </tr>\n",
       "    <tr>\n",
       "      <th>50%</th>\n",
       "      <td>6.974230e+05</td>\n",
       "      <td>0.000000e+00</td>\n",
       "      <td>0.000000e+00</td>\n",
       "      <td>0.000000e+00</td>\n",
       "      <td>2.700000e+01</td>\n",
       "      <td>0.000000e+00</td>\n",
       "      <td>6.000000e-01</td>\n",
       "    </tr>\n",
       "    <tr>\n",
       "      <th>75%</th>\n",
       "      <td>1.022196e+06</td>\n",
       "      <td>5.000000e+00</td>\n",
       "      <td>1.000000e+00</td>\n",
       "      <td>0.000000e+00</td>\n",
       "      <td>9.000000e+01</td>\n",
       "      <td>0.000000e+00</td>\n",
       "      <td>8.870000e-01</td>\n",
       "    </tr>\n",
       "    <tr>\n",
       "      <th>max</th>\n",
       "      <td>1.311309e+06</td>\n",
       "      <td>1.000000e+01</td>\n",
       "      <td>3.449500e+04</td>\n",
       "      <td>3.000000e+09</td>\n",
       "      <td>1.440000e+04</td>\n",
       "      <td>9.000000e+08</td>\n",
       "      <td>2.994357e+03</td>\n",
       "    </tr>\n",
       "  </tbody>\n",
       "</table>\n",
       "</div>"
      ],
      "text/plain": [
       "                 id  vote_average    vote_count       revenue       runtime  \\\n",
       "count  1.058675e+06  1.058675e+06  1.058675e+06  1.058675e+06  1.058675e+06   \n",
       "mean   6.956178e+05  2.002076e+00  2.025814e+01  7.157280e+05  4.944329e+01   \n",
       "std    3.723586e+05  3.072888e+00  3.299876e+02  1.799855e+07  6.205908e+01   \n",
       "min    2.000000e+00  0.000000e+00  0.000000e+00 -1.200000e+01 -2.800000e+01   \n",
       "25%    3.876335e+05  0.000000e+00  0.000000e+00  0.000000e+00  0.000000e+00   \n",
       "50%    6.974230e+05  0.000000e+00  0.000000e+00  0.000000e+00  2.700000e+01   \n",
       "75%    1.022196e+06  5.000000e+00  1.000000e+00  0.000000e+00  9.000000e+01   \n",
       "max    1.311309e+06  1.000000e+01  3.449500e+04  3.000000e+09  1.440000e+04   \n",
       "\n",
       "             budget    popularity  \n",
       "count  1.058675e+06  1.058675e+06  \n",
       "mean   2.805240e+05  1.293365e+00  \n",
       "std    5.057937e+06  7.857289e+00  \n",
       "min    0.000000e+00  0.000000e+00  \n",
       "25%    0.000000e+00  6.000000e-01  \n",
       "50%    0.000000e+00  6.000000e-01  \n",
       "75%    0.000000e+00  8.870000e-01  \n",
       "max    9.000000e+08  2.994357e+03  "
      ]
     },
     "execution_count": 30,
     "metadata": {},
     "output_type": "execute_result"
    }
   ],
   "source": [
    "df.describe()"
   ]
  },
  {
   "cell_type": "code",
   "execution_count": 31,
   "id": "a6ba9ad4-eb4b-4fac-9f5e-c13d60069165",
   "metadata": {},
   "outputs": [
    {
     "name": "stdout",
     "output_type": "stream",
     "text": [
      "<class 'pandas.core.frame.DataFrame'>\n",
      "RangeIndex: 1058675 entries, 0 to 1058674\n",
      "Data columns (total 24 columns):\n",
      " #   Column                Non-Null Count    Dtype  \n",
      "---  ------                --------------    -----  \n",
      " 0   id                    1058675 non-null  int64  \n",
      " 1   title                 1058663 non-null  object \n",
      " 2   vote_average          1058675 non-null  float64\n",
      " 3   vote_count            1058675 non-null  int64  \n",
      " 4   status                1058675 non-null  object \n",
      " 5   release_date          915240 non-null   object \n",
      " 6   revenue               1058675 non-null  int64  \n",
      " 7   runtime               1058675 non-null  int64  \n",
      " 8   adult                 1058675 non-null  bool   \n",
      " 9   backdrop_path         290852 non-null   object \n",
      " 10  budget                1058675 non-null  int64  \n",
      " 11  homepage              114186 non-null   object \n",
      " 12  imdb_id               585588 non-null   object \n",
      " 13  original_language     1058675 non-null  object \n",
      " 14  original_title        1058663 non-null  object \n",
      " 15  overview              860577 non-null   object \n",
      " 16  popularity            1058675 non-null  float64\n",
      " 17  poster_path           748492 non-null   object \n",
      " 18  tagline               150995 non-null   object \n",
      " 19  genres                654389 non-null   object \n",
      " 20  production_companies  492629 non-null   object \n",
      " 21  production_countries  611915 non-null   object \n",
      " 22  spoken_languages      626820 non-null   object \n",
      " 23  keywords              298231 non-null   object \n",
      "dtypes: bool(1), float64(2), int64(5), object(16)\n",
      "memory usage: 186.8+ MB\n"
     ]
    }
   ],
   "source": [
    "df.info()"
   ]
  },
  {
   "cell_type": "code",
   "execution_count": 5,
   "id": "dd08382c-f703-4fd3-8b0f-06bd0ed7ee70",
   "metadata": {},
   "outputs": [
    {
     "name": "stdout",
     "output_type": "stream",
     "text": [
      "null values before :  id                           0\n",
      "title                       12\n",
      "vote_average                 0\n",
      "vote_count                   0\n",
      "status                       0\n",
      "release_date            143435\n",
      "revenue                      0\n",
      "runtime                      0\n",
      "adult                        0\n",
      "backdrop_path           767823\n",
      "budget                       0\n",
      "homepage                944489\n",
      "imdb_id                 473087\n",
      "original_language            0\n",
      "original_title              12\n",
      "overview                198098\n",
      "popularity                   0\n",
      "poster_path             310183\n",
      "tagline                 907680\n",
      "genres                  404286\n",
      "production_companies    566046\n",
      "production_countries    446760\n",
      "spoken_languages        431855\n",
      "keywords                760444\n",
      "dtype: int64\n"
     ]
    }
   ],
   "source": [
    "print(\"null values before : \",df.isnull().sum())"
   ]
  },
  {
   "cell_type": "markdown",
   "id": "c0a4e779-2d7c-401c-8d9c-7e4df3f8e814",
   "metadata": {},
   "source": [
    "# data cleaning"
   ]
  },
  {
   "cell_type": "code",
   "execution_count": 6,
   "id": "c2aa1ea0-4ed2-4d7b-a415-c4dc42977dc5",
   "metadata": {},
   "outputs": [],
   "source": [
    "# Assuming df is your DataFrame\n",
    "\n",
    "# Drop the 'id' column\n",
    "df.drop(df.columns[0], axis=1, inplace=True)\n",
    "\n",
    "# Fill missing values in selected columns with 'unknown'\n",
    "df.fillna({\n",
    "    'title': 'unknown',\n",
    "    'genres': 'unknown',\n",
    "    'production_companies': 'unknown',\n",
    "    'production_countries': 'unknown',\n",
    "    'keywords': 'unknown',\n",
    "    'overview':'unknown',\n",
    "    'tagline':'unknown',\n",
    "    'poster_path':'unknown'\n",
    "}, inplace=True)\n",
    "\n",
    "# Drop specified columns\n",
    "df.drop(['backdrop_path', 'homepage','imdb_id','original_title'], axis=1, inplace=True)\n",
    "\n",
    "# Fill missing values in 'spoken_languages' with its mode\n",
    "df['spoken_languages'].fillna(df['spoken_languages'].mode()[0], inplace=True)"
   ]
  },
  {
   "cell_type": "code",
   "execution_count": 7,
   "id": "c477ca2f-3b22-44e3-a7bf-8ce9f7e54981",
   "metadata": {},
   "outputs": [],
   "source": [
    "df.dropna(subset=[\"release_date\"],inplace=True)"
   ]
  },
  {
   "cell_type": "code",
   "execution_count": 8,
   "id": "d69c905c-9c7b-4203-8f02-12877e129ceb",
   "metadata": {},
   "outputs": [
    {
     "name": "stdout",
     "output_type": "stream",
     "text": [
      "null values after filling cleaning :  title                   0\n",
      "vote_average            0\n",
      "vote_count              0\n",
      "status                  0\n",
      "release_date            0\n",
      "revenue                 0\n",
      "runtime                 0\n",
      "adult                   0\n",
      "budget                  0\n",
      "original_language       0\n",
      "overview                0\n",
      "popularity              0\n",
      "poster_path             0\n",
      "genres                  0\n",
      "production_companies    0\n",
      "production_countries    0\n",
      "spoken_languages        0\n",
      "keywords                0\n",
      "dtype: int64\n"
     ]
    }
   ],
   "source": [
    "print(\"null values after filling cleaning : \",df.isnull().sum())"
   ]
  },
  {
   "cell_type": "code",
   "execution_count": 9,
   "id": "bb9d1ede-f54a-44d9-b2c3-208033fa11c2",
   "metadata": {},
   "outputs": [
    {
     "name": "stdout",
     "output_type": "stream",
     "text": [
      "<class 'pandas.core.frame.DataFrame'>\n",
      "Index: 915240 entries, 0 to 1058673\n",
      "Data columns (total 18 columns):\n",
      " #   Column                Non-Null Count   Dtype  \n",
      "---  ------                --------------   -----  \n",
      " 0   title                 915240 non-null  object \n",
      " 1   vote_average          915240 non-null  float64\n",
      " 2   vote_count            915240 non-null  int64  \n",
      " 3   status                915240 non-null  object \n",
      " 4   release_date          915240 non-null  object \n",
      " 5   revenue               915240 non-null  int64  \n",
      " 6   runtime               915240 non-null  int64  \n",
      " 7   adult                 915240 non-null  bool   \n",
      " 8   budget                915240 non-null  int64  \n",
      " 9   original_language     915240 non-null  object \n",
      " 10  overview              915240 non-null  object \n",
      " 11  popularity            915240 non-null  float64\n",
      " 12  poster_path           915240 non-null  object \n",
      " 13  genres                915240 non-null  object \n",
      " 14  production_companies  915240 non-null  object \n",
      " 15  production_countries  915240 non-null  object \n",
      " 16  spoken_languages      915240 non-null  object \n",
      " 17  keywords              915240 non-null  object \n",
      "dtypes: bool(1), float64(2), int64(4), object(11)\n",
      "memory usage: 126.6+ MB\n"
     ]
    }
   ],
   "source": [
    "df.info()"
   ]
  },
  {
   "cell_type": "code",
   "execution_count": 10,
   "id": "1c9b1405-2be8-4ae3-98ce-5733fb200fa7",
   "metadata": {},
   "outputs": [
    {
     "data": {
      "text/html": [
       "<div>\n",
       "<style scoped>\n",
       "    .dataframe tbody tr th:only-of-type {\n",
       "        vertical-align: middle;\n",
       "    }\n",
       "\n",
       "    .dataframe tbody tr th {\n",
       "        vertical-align: top;\n",
       "    }\n",
       "\n",
       "    .dataframe thead th {\n",
       "        text-align: right;\n",
       "    }\n",
       "</style>\n",
       "<table border=\"1\" class=\"dataframe\">\n",
       "  <thead>\n",
       "    <tr style=\"text-align: right;\">\n",
       "      <th></th>\n",
       "      <th>title</th>\n",
       "      <th>vote_average</th>\n",
       "      <th>vote_count</th>\n",
       "      <th>status</th>\n",
       "      <th>release_date</th>\n",
       "      <th>revenue</th>\n",
       "      <th>runtime</th>\n",
       "      <th>adult</th>\n",
       "      <th>budget</th>\n",
       "      <th>original_language</th>\n",
       "      <th>overview</th>\n",
       "      <th>popularity</th>\n",
       "      <th>poster_path</th>\n",
       "      <th>genres</th>\n",
       "      <th>production_companies</th>\n",
       "      <th>production_countries</th>\n",
       "      <th>spoken_languages</th>\n",
       "      <th>keywords</th>\n",
       "    </tr>\n",
       "  </thead>\n",
       "  <tbody>\n",
       "    <tr>\n",
       "      <th>0</th>\n",
       "      <td>Inception</td>\n",
       "      <td>8.364</td>\n",
       "      <td>34495</td>\n",
       "      <td>Released</td>\n",
       "      <td>2010-07-15</td>\n",
       "      <td>825532764</td>\n",
       "      <td>148</td>\n",
       "      <td>False</td>\n",
       "      <td>160000000</td>\n",
       "      <td>en</td>\n",
       "      <td>Cobb, a skilled thief who commits corporate es...</td>\n",
       "      <td>83.952</td>\n",
       "      <td>/oYuLEt3zVCKq57qu2F8dT7NIa6f.jpg</td>\n",
       "      <td>Action, Science Fiction, Adventure</td>\n",
       "      <td>Legendary Pictures, Syncopy, Warner Bros. Pict...</td>\n",
       "      <td>United Kingdom, United States of America</td>\n",
       "      <td>English, French, Japanese, Swahili</td>\n",
       "      <td>rescue, mission, dream, airplane, paris, franc...</td>\n",
       "    </tr>\n",
       "    <tr>\n",
       "      <th>1</th>\n",
       "      <td>Interstellar</td>\n",
       "      <td>8.417</td>\n",
       "      <td>32571</td>\n",
       "      <td>Released</td>\n",
       "      <td>2014-11-05</td>\n",
       "      <td>701729206</td>\n",
       "      <td>169</td>\n",
       "      <td>False</td>\n",
       "      <td>165000000</td>\n",
       "      <td>en</td>\n",
       "      <td>The adventures of a group of explorers who mak...</td>\n",
       "      <td>140.241</td>\n",
       "      <td>/gEU2QniE6E77NI6lCU6MxlNBvIx.jpg</td>\n",
       "      <td>Adventure, Drama, Science Fiction</td>\n",
       "      <td>Legendary Pictures, Syncopy, Lynda Obst Produc...</td>\n",
       "      <td>United Kingdom, United States of America</td>\n",
       "      <td>English</td>\n",
       "      <td>rescue, future, spacecraft, race against time,...</td>\n",
       "    </tr>\n",
       "    <tr>\n",
       "      <th>2</th>\n",
       "      <td>The Dark Knight</td>\n",
       "      <td>8.512</td>\n",
       "      <td>30619</td>\n",
       "      <td>Released</td>\n",
       "      <td>2008-07-16</td>\n",
       "      <td>1004558444</td>\n",
       "      <td>152</td>\n",
       "      <td>False</td>\n",
       "      <td>185000000</td>\n",
       "      <td>en</td>\n",
       "      <td>Batman raises the stakes in his war on crime. ...</td>\n",
       "      <td>130.643</td>\n",
       "      <td>/qJ2tW6WMUDux911r6m7haRef0WH.jpg</td>\n",
       "      <td>Drama, Action, Crime, Thriller</td>\n",
       "      <td>DC Comics, Legendary Pictures, Syncopy, Isobel...</td>\n",
       "      <td>United Kingdom, United States of America</td>\n",
       "      <td>English, Mandarin</td>\n",
       "      <td>joker, sadism, chaos, secret identity, crime f...</td>\n",
       "    </tr>\n",
       "    <tr>\n",
       "      <th>3</th>\n",
       "      <td>Avatar</td>\n",
       "      <td>7.573</td>\n",
       "      <td>29815</td>\n",
       "      <td>Released</td>\n",
       "      <td>2009-12-15</td>\n",
       "      <td>2923706026</td>\n",
       "      <td>162</td>\n",
       "      <td>False</td>\n",
       "      <td>237000000</td>\n",
       "      <td>en</td>\n",
       "      <td>In the 22nd century, a paraplegic Marine is di...</td>\n",
       "      <td>79.932</td>\n",
       "      <td>/kyeqWdyUXW608qlYkRqosgbbJyK.jpg</td>\n",
       "      <td>Action, Adventure, Fantasy, Science Fiction</td>\n",
       "      <td>Dune Entertainment, Lightstorm Entertainment, ...</td>\n",
       "      <td>United States of America, United Kingdom</td>\n",
       "      <td>English, Spanish</td>\n",
       "      <td>future, society, culture clash, space travel, ...</td>\n",
       "    </tr>\n",
       "    <tr>\n",
       "      <th>4</th>\n",
       "      <td>The Avengers</td>\n",
       "      <td>7.710</td>\n",
       "      <td>29166</td>\n",
       "      <td>Released</td>\n",
       "      <td>2012-04-25</td>\n",
       "      <td>1518815515</td>\n",
       "      <td>143</td>\n",
       "      <td>False</td>\n",
       "      <td>220000000</td>\n",
       "      <td>en</td>\n",
       "      <td>When an unexpected enemy emerges and threatens...</td>\n",
       "      <td>98.082</td>\n",
       "      <td>/RYMX2wcKCBAr24UyPD7xwmjaTn.jpg</td>\n",
       "      <td>Science Fiction, Action, Adventure</td>\n",
       "      <td>Marvel Studios</td>\n",
       "      <td>United States of America</td>\n",
       "      <td>English, Hindi, Russian</td>\n",
       "      <td>new york city, superhero, shield, based on com...</td>\n",
       "    </tr>\n",
       "    <tr>\n",
       "      <th>5</th>\n",
       "      <td>Deadpool</td>\n",
       "      <td>7.606</td>\n",
       "      <td>28894</td>\n",
       "      <td>Released</td>\n",
       "      <td>2016-02-09</td>\n",
       "      <td>783100000</td>\n",
       "      <td>108</td>\n",
       "      <td>False</td>\n",
       "      <td>58000000</td>\n",
       "      <td>en</td>\n",
       "      <td>The origin story of former Special Forces oper...</td>\n",
       "      <td>72.735</td>\n",
       "      <td>/zq8Cl3PNIDGU3iWNRoc5nEZ6pCe.jpg</td>\n",
       "      <td>Action, Adventure, Comedy</td>\n",
       "      <td>20th Century Fox, The Donners' Company, Genre ...</td>\n",
       "      <td>United States of America</td>\n",
       "      <td>English</td>\n",
       "      <td>superhero, anti hero, mercenary, based on comi...</td>\n",
       "    </tr>\n",
       "    <tr>\n",
       "      <th>6</th>\n",
       "      <td>Avengers: Infinity War</td>\n",
       "      <td>8.255</td>\n",
       "      <td>27713</td>\n",
       "      <td>Released</td>\n",
       "      <td>2018-04-25</td>\n",
       "      <td>2052415039</td>\n",
       "      <td>149</td>\n",
       "      <td>False</td>\n",
       "      <td>300000000</td>\n",
       "      <td>en</td>\n",
       "      <td>As the Avengers and their allies have continue...</td>\n",
       "      <td>154.340</td>\n",
       "      <td>/7WsyChQLEftFiDOVTGkv3hFpyyt.jpg</td>\n",
       "      <td>Adventure, Action, Science Fiction</td>\n",
       "      <td>Marvel Studios</td>\n",
       "      <td>United States of America</td>\n",
       "      <td>English, Xhosa</td>\n",
       "      <td>sacrifice, magic, superhero, based on comic, s...</td>\n",
       "    </tr>\n",
       "    <tr>\n",
       "      <th>7</th>\n",
       "      <td>Fight Club</td>\n",
       "      <td>8.438</td>\n",
       "      <td>27238</td>\n",
       "      <td>Released</td>\n",
       "      <td>1999-10-15</td>\n",
       "      <td>100853753</td>\n",
       "      <td>139</td>\n",
       "      <td>False</td>\n",
       "      <td>63000000</td>\n",
       "      <td>en</td>\n",
       "      <td>A ticking-time-bomb insomniac and a slippery s...</td>\n",
       "      <td>69.498</td>\n",
       "      <td>/pB8BM7pdSp6B6Ih7QZ4DrQ3PmJK.jpg</td>\n",
       "      <td>Drama</td>\n",
       "      <td>Regency Enterprises, Fox 2000 Pictures, Taurus...</td>\n",
       "      <td>United States of America</td>\n",
       "      <td>English</td>\n",
       "      <td>dual identity, rage and hate, based on novel o...</td>\n",
       "    </tr>\n",
       "    <tr>\n",
       "      <th>8</th>\n",
       "      <td>Guardians of the Galaxy</td>\n",
       "      <td>7.906</td>\n",
       "      <td>26638</td>\n",
       "      <td>Released</td>\n",
       "      <td>2014-07-30</td>\n",
       "      <td>772776600</td>\n",
       "      <td>121</td>\n",
       "      <td>False</td>\n",
       "      <td>170000000</td>\n",
       "      <td>en</td>\n",
       "      <td>Light years from Earth, 26 years after being a...</td>\n",
       "      <td>33.255</td>\n",
       "      <td>/r7vmZjiyZw9rpJMQJdXpjgiCOk9.jpg</td>\n",
       "      <td>Action, Science Fiction, Adventure</td>\n",
       "      <td>Marvel Studios</td>\n",
       "      <td>United States of America</td>\n",
       "      <td>English</td>\n",
       "      <td>spacecraft, based on comic, space, orphan, adv...</td>\n",
       "    </tr>\n",
       "    <tr>\n",
       "      <th>9</th>\n",
       "      <td>Pulp Fiction</td>\n",
       "      <td>8.488</td>\n",
       "      <td>25893</td>\n",
       "      <td>Released</td>\n",
       "      <td>1994-09-10</td>\n",
       "      <td>213900000</td>\n",
       "      <td>154</td>\n",
       "      <td>False</td>\n",
       "      <td>8500000</td>\n",
       "      <td>en</td>\n",
       "      <td>A burger-loving hit man, his philosophical par...</td>\n",
       "      <td>74.862</td>\n",
       "      <td>/d5iIlFn5s0ImszYzBPb8JPIfbXD.jpg</td>\n",
       "      <td>Thriller, Crime</td>\n",
       "      <td>Miramax, A Band Apart, Jersey Films</td>\n",
       "      <td>United States of America</td>\n",
       "      <td>English, Spanish, French</td>\n",
       "      <td>drug dealer, boxer, massage, stolen money, bri...</td>\n",
       "    </tr>\n",
       "  </tbody>\n",
       "</table>\n",
       "</div>"
      ],
      "text/plain": [
       "                     title  vote_average  vote_count    status release_date  \\\n",
       "0                Inception         8.364       34495  Released   2010-07-15   \n",
       "1             Interstellar         8.417       32571  Released   2014-11-05   \n",
       "2          The Dark Knight         8.512       30619  Released   2008-07-16   \n",
       "3                   Avatar         7.573       29815  Released   2009-12-15   \n",
       "4             The Avengers         7.710       29166  Released   2012-04-25   \n",
       "5                 Deadpool         7.606       28894  Released   2016-02-09   \n",
       "6   Avengers: Infinity War         8.255       27713  Released   2018-04-25   \n",
       "7               Fight Club         8.438       27238  Released   1999-10-15   \n",
       "8  Guardians of the Galaxy         7.906       26638  Released   2014-07-30   \n",
       "9             Pulp Fiction         8.488       25893  Released   1994-09-10   \n",
       "\n",
       "      revenue  runtime  adult     budget original_language  \\\n",
       "0   825532764      148  False  160000000                en   \n",
       "1   701729206      169  False  165000000                en   \n",
       "2  1004558444      152  False  185000000                en   \n",
       "3  2923706026      162  False  237000000                en   \n",
       "4  1518815515      143  False  220000000                en   \n",
       "5   783100000      108  False   58000000                en   \n",
       "6  2052415039      149  False  300000000                en   \n",
       "7   100853753      139  False   63000000                en   \n",
       "8   772776600      121  False  170000000                en   \n",
       "9   213900000      154  False    8500000                en   \n",
       "\n",
       "                                            overview  popularity  \\\n",
       "0  Cobb, a skilled thief who commits corporate es...      83.952   \n",
       "1  The adventures of a group of explorers who mak...     140.241   \n",
       "2  Batman raises the stakes in his war on crime. ...     130.643   \n",
       "3  In the 22nd century, a paraplegic Marine is di...      79.932   \n",
       "4  When an unexpected enemy emerges and threatens...      98.082   \n",
       "5  The origin story of former Special Forces oper...      72.735   \n",
       "6  As the Avengers and their allies have continue...     154.340   \n",
       "7  A ticking-time-bomb insomniac and a slippery s...      69.498   \n",
       "8  Light years from Earth, 26 years after being a...      33.255   \n",
       "9  A burger-loving hit man, his philosophical par...      74.862   \n",
       "\n",
       "                        poster_path  \\\n",
       "0  /oYuLEt3zVCKq57qu2F8dT7NIa6f.jpg   \n",
       "1  /gEU2QniE6E77NI6lCU6MxlNBvIx.jpg   \n",
       "2  /qJ2tW6WMUDux911r6m7haRef0WH.jpg   \n",
       "3  /kyeqWdyUXW608qlYkRqosgbbJyK.jpg   \n",
       "4   /RYMX2wcKCBAr24UyPD7xwmjaTn.jpg   \n",
       "5  /zq8Cl3PNIDGU3iWNRoc5nEZ6pCe.jpg   \n",
       "6  /7WsyChQLEftFiDOVTGkv3hFpyyt.jpg   \n",
       "7  /pB8BM7pdSp6B6Ih7QZ4DrQ3PmJK.jpg   \n",
       "8  /r7vmZjiyZw9rpJMQJdXpjgiCOk9.jpg   \n",
       "9  /d5iIlFn5s0ImszYzBPb8JPIfbXD.jpg   \n",
       "\n",
       "                                        genres  \\\n",
       "0           Action, Science Fiction, Adventure   \n",
       "1            Adventure, Drama, Science Fiction   \n",
       "2               Drama, Action, Crime, Thriller   \n",
       "3  Action, Adventure, Fantasy, Science Fiction   \n",
       "4           Science Fiction, Action, Adventure   \n",
       "5                    Action, Adventure, Comedy   \n",
       "6           Adventure, Action, Science Fiction   \n",
       "7                                        Drama   \n",
       "8           Action, Science Fiction, Adventure   \n",
       "9                              Thriller, Crime   \n",
       "\n",
       "                                production_companies  \\\n",
       "0  Legendary Pictures, Syncopy, Warner Bros. Pict...   \n",
       "1  Legendary Pictures, Syncopy, Lynda Obst Produc...   \n",
       "2  DC Comics, Legendary Pictures, Syncopy, Isobel...   \n",
       "3  Dune Entertainment, Lightstorm Entertainment, ...   \n",
       "4                                     Marvel Studios   \n",
       "5  20th Century Fox, The Donners' Company, Genre ...   \n",
       "6                                     Marvel Studios   \n",
       "7  Regency Enterprises, Fox 2000 Pictures, Taurus...   \n",
       "8                                     Marvel Studios   \n",
       "9                Miramax, A Band Apart, Jersey Films   \n",
       "\n",
       "                       production_countries  \\\n",
       "0  United Kingdom, United States of America   \n",
       "1  United Kingdom, United States of America   \n",
       "2  United Kingdom, United States of America   \n",
       "3  United States of America, United Kingdom   \n",
       "4                  United States of America   \n",
       "5                  United States of America   \n",
       "6                  United States of America   \n",
       "7                  United States of America   \n",
       "8                  United States of America   \n",
       "9                  United States of America   \n",
       "\n",
       "                     spoken_languages  \\\n",
       "0  English, French, Japanese, Swahili   \n",
       "1                             English   \n",
       "2                   English, Mandarin   \n",
       "3                    English, Spanish   \n",
       "4             English, Hindi, Russian   \n",
       "5                             English   \n",
       "6                      English, Xhosa   \n",
       "7                             English   \n",
       "8                             English   \n",
       "9            English, Spanish, French   \n",
       "\n",
       "                                            keywords  \n",
       "0  rescue, mission, dream, airplane, paris, franc...  \n",
       "1  rescue, future, spacecraft, race against time,...  \n",
       "2  joker, sadism, chaos, secret identity, crime f...  \n",
       "3  future, society, culture clash, space travel, ...  \n",
       "4  new york city, superhero, shield, based on com...  \n",
       "5  superhero, anti hero, mercenary, based on comi...  \n",
       "6  sacrifice, magic, superhero, based on comic, s...  \n",
       "7  dual identity, rage and hate, based on novel o...  \n",
       "8  spacecraft, based on comic, space, orphan, adv...  \n",
       "9  drug dealer, boxer, massage, stolen money, bri...  "
      ]
     },
     "execution_count": 10,
     "metadata": {},
     "output_type": "execute_result"
    }
   ],
   "source": [
    "df.head(10)"
   ]
  },
  {
   "cell_type": "code",
   "execution_count": 11,
   "id": "7f4261bf-02af-4219-b9ee-2b21373862e4",
   "metadata": {},
   "outputs": [
    {
     "name": "stdout",
     "output_type": "stream",
     "text": [
      "number of duplicates before : 170\n",
      "number of duplicates after :  0\n"
     ]
    }
   ],
   "source": [
    "print(\"number of duplicates before :\",df.duplicated().sum() )\n",
    "df.drop_duplicates(inplace = True)\n",
    "print(\"number of duplicates after : \",df.duplicated().sum())"
   ]
  },
  {
   "cell_type": "markdown",
   "id": "f36f9a17-19ae-4867-84c3-faf800177290",
   "metadata": {},
   "source": [
    "# feature engineering and encoding\n",
    "## Extracting additional features from the initial one(release_year) \n"
   ]
  },
  {
   "cell_type": "code",
   "execution_count": 12,
   "id": "74380a79-a9ba-47e7-a648-281d68a38530",
   "metadata": {},
   "outputs": [],
   "source": [
    " df['release_date'] = pd.to_datetime(df['release_date'])\n",
    "df['release_year'] = df['release_date'].dt.year.astype(int)\n",
    "df['release_month'] = df['release_date'].dt.month.astype(int)\n",
    "df['release_day'] = df['release_date'].dt.day.astype(int)\n",
    "df.drop('release_date', axis=1, inplace=True)\n"
   ]
  },
  {
   "cell_type": "code",
   "execution_count": 13,
   "id": "ea2a2165-a9f8-42a6-9a3b-fe472457530d",
   "metadata": {},
   "outputs": [],
   "source": [
    "df_encoded=df.copy()"
   ]
  },
  {
   "cell_type": "markdown",
   "id": "2915e76a-ddcf-4865-aff2-6639dccbade2",
   "metadata": {},
   "source": [
    "## dropping unnecessary columns "
   ]
  },
  {
   "cell_type": "code",
   "execution_count": 14,
   "id": "51606c37-178b-43f4-8331-390e16d092d6",
   "metadata": {},
   "outputs": [],
   "source": [
    "df_encoded.drop(['release_month','release_day','keywords','overview','spoken_languages','poster_path','tagline'],axis = 1 ,inplace = True)"
   ]
  },
  {
   "cell_type": "markdown",
   "id": "5f08b555-d816-4605-8788-6d79101a4bd2",
   "metadata": {},
   "source": [
    "## splitting the genre column ( because it has comma separated values) and then encoding them"
   ]
  },
  {
   "cell_type": "code",
   "execution_count": 15,
   "id": "3bd215cb-cb31-4f90-86fe-571cbafb8181",
   "metadata": {},
   "outputs": [
    {
     "name": "stdout",
     "output_type": "stream",
     "text": [
      "0                   Action, Science Fiction, Adventure\n",
      "1                    Adventure, Drama, Science Fiction\n",
      "2                       Drama, Action, Crime, Thriller\n",
      "3          Action, Adventure, Fantasy, Science Fiction\n",
      "4                   Science Fiction, Action, Adventure\n",
      "                              ...                     \n",
      "1058667                                          Drama\n",
      "1058668                                    Documentary\n",
      "1058669                                        unknown\n",
      "1058671                                    Documentary\n",
      "1058673                                        unknown\n",
      "Name: genres, Length: 915070, dtype: object\n"
     ]
    }
   ],
   "source": [
    "print(df_encoded['genres'])"
   ]
  },
  {
   "cell_type": "code",
   "execution_count": 16,
   "id": "444cea19-5fa5-4e0c-8d6e-078371bfc1d8",
   "metadata": {},
   "outputs": [],
   "source": [
    "df_encoded['genres'] = df_encoded['genres'].str.split(', ')\n",
    "unique_genres = set(genre for sublist in df_encoded['genres'] for genre in sublist)\n",
    "\n",
    "# Step 3: Create binary columns for each genre\n",
    "for genre in unique_genres:\n",
    "    df_encoded[genre] = df_encoded['genres'].apply(lambda x: 1 if genre in x else 0)\n",
    "\n",
    "# Drop the original genres column\n",
    "df_encoded.drop('genres', axis=1, inplace=True)"
   ]
  },
  {
   "cell_type": "markdown",
   "id": "c308f9d0-e9fb-410c-bed4-474aeda7d640",
   "metadata": {},
   "source": [
    "### encoding the adult column with 1 and 0"
   ]
  },
  {
   "cell_type": "code",
   "execution_count": 17,
   "id": "707ec0e2-7df3-406d-9b5a-de9f95cb692f",
   "metadata": {},
   "outputs": [
    {
     "data": {
      "text/plain": [
       "adult\n",
       "0    825843\n",
       "1     89227\n",
       "Name: count, dtype: int64"
      ]
     },
     "execution_count": 17,
     "metadata": {},
     "output_type": "execute_result"
    }
   ],
   "source": [
    "df_encoded['adult'] = df_encoded['adult'].astype(int)\n",
    "df_encoded['adult'].value_counts() #true 1 // false = 0"
   ]
  },
  {
   "cell_type": "markdown",
   "id": "6622bf57-a398-4e04-a57f-44a483001d81",
   "metadata": {},
   "source": [
    "## encoding the status"
   ]
  },
  {
   "cell_type": "code",
   "execution_count": 18,
   "id": "a9f23fbe-8c8a-47ac-8461-2d892a235ada",
   "metadata": {},
   "outputs": [],
   "source": [
    " status_mapping = {\n",
    "    'Planned': 1,\n",
    "    'In Production': 2,\n",
    "    'Post Production': 3,\n",
    "    'Released': 4,\n",
    "    'Rumored': 5,\n",
    "    'Canceled': 6\n",
    "}\n",
    "\n",
    "# Apply the mapping to create a new encoded column\n",
    "df_encoded['status'] = df_encoded['status'].map(status_mapping)\n"
   ]
  },
  {
   "cell_type": "markdown",
   "id": "0e8a6dfd-f72a-44f4-937c-b4bdbd6d8952",
   "metadata": {},
   "source": [
    "# frequency encoding the original language column\n"
   ]
  },
  {
   "cell_type": "code",
   "execution_count": 19,
   "id": "c449321a-30cb-4096-aff8-90cda93bf762",
   "metadata": {},
   "outputs": [],
   "source": [
    "# Calculate frequency of each language\n",
    "language_counts = df_encoded['original_language'].value_counts(normalize=True)\n",
    "\n",
    "# Map frequencies to create a new encoded column\n",
    "df_encoded['original_language'] = df_encoded['original_language'].map(language_counts)\n"
   ]
  },
  {
   "cell_type": "markdown",
   "id": "1b0db799-cbb3-4322-9711-98e7a2df0918",
   "metadata": {},
   "source": [
    "## Target encoding the title column"
   ]
  },
  {
   "cell_type": "code",
   "execution_count": 20,
   "id": "9892e672-1eab-4ce6-a2c0-6884bcd2121f",
   "metadata": {},
   "outputs": [
    {
     "data": {
      "text/plain": [
       "0          8.364\n",
       "1          8.417\n",
       "2          8.512\n",
       "3          5.154\n",
       "4          7.363\n",
       "           ...  \n",
       "1058667    0.000\n",
       "1058668    0.000\n",
       "1058669    0.000\n",
       "1058671    0.000\n",
       "1058673    0.000\n",
       "Name: title, Length: 915070, dtype: float64"
      ]
     },
     "execution_count": 20,
     "metadata": {},
     "output_type": "execute_result"
    }
   ],
   "source": [
    " # Calculate mean vote_average for each title\n",
    "title_means = df_encoded.groupby('title')['vote_average'].mean()\n",
    "\n",
    "# Map means to create a new encoded column\n",
    "df_encoded['title'] = df_encoded['title'].map(title_means)\n",
    " \n",
    "df_encoded['title']"
   ]
  },
  {
   "cell_type": "markdown",
   "id": "93bf1643-b32a-4127-ad94-5c7beec10574",
   "metadata": {},
   "source": [
    "## encoding the production countries and comapanies"
   ]
  },
  {
   "cell_type": "code",
   "execution_count": 21,
   "id": "1af63d88-70d9-40e9-8029-ec112516a982",
   "metadata": {},
   "outputs": [],
   "source": [
    " # Calculate mean vote_average for each title\n",
    "prod_comp_means = df_encoded.groupby('production_companies')['revenue'].mean()\n",
    "\n",
    "# Map means to create a new encoded column\n",
    "df_encoded['production_companies'] = df_encoded['production_companies'].map(prod_comp_means)\n",
    " \n",
    " "
   ]
  },
  {
   "cell_type": "code",
   "execution_count": 22,
   "id": "7df7a0d4-baa3-4703-bef1-60efc36a95cf",
   "metadata": {},
   "outputs": [],
   "source": [
    "prod_cont_means = df_encoded.groupby('production_countries')['revenue'].mean()\n",
    "\n",
    "# Map means to create a new encoded column\n",
    "df_encoded['production_countries'] = df_encoded['production_countries'].map(prod_cont_means)\n",
    " "
   ]
  },
  {
   "cell_type": "markdown",
   "id": "f1eb0192-47cc-4cf9-87b4-69c3218f7ac7",
   "metadata": {},
   "source": [
    "# splitting my data into features and target variables"
   ]
  },
  {
   "cell_type": "code",
   "execution_count": 23,
   "id": "27c9eb30-bc41-495a-9877-f8ed3dd00f31",
   "metadata": {},
   "outputs": [],
   "source": [
    "from sklearn.model_selection import train_test_split\n",
    "\n",
    "features = df_encoded.drop(['title'],axis = 'columns')\n",
    "target=df_encoded['title']"
   ]
  },
  {
   "cell_type": "markdown",
   "id": "b2c5b25b-516e-4720-a123-67a340de4785",
   "metadata": {},
   "source": [
    "# scaling the encoded data"
   ]
  },
  {
   "cell_type": "code",
   "execution_count": 24,
   "id": "e0d76ba6-b9a1-418f-8f62-5dc6ad9213bb",
   "metadata": {},
   "outputs": [],
   "source": [
    "from sklearn.preprocessing import StandardScaler\n",
    "from sklearn.model_selection import train_test_split\n",
    "\n",
    "scaler = StandardScaler()\n",
    "\n",
    "df_encoded_scaled=scaler.fit_transform(features)"
   ]
  },
  {
   "cell_type": "markdown",
   "id": "59d88421-7c14-468f-9f17-0ddfdedbfa8f",
   "metadata": {},
   "source": [
    "# The beginnning of my model ( KNN using cosine similarity )"
   ]
  },
  {
   "cell_type": "code",
   "execution_count": 25,
   "id": "efe5555d-18bb-4d8f-ba75-82f1df13879c",
   "metadata": {},
   "outputs": [
    {
     "data": {
      "text/html": [
       "<style>#sk-container-id-1 {color: black;background-color: white;}#sk-container-id-1 pre{padding: 0;}#sk-container-id-1 div.sk-toggleable {background-color: white;}#sk-container-id-1 label.sk-toggleable__label {cursor: pointer;display: block;width: 100%;margin-bottom: 0;padding: 0.3em;box-sizing: border-box;text-align: center;}#sk-container-id-1 label.sk-toggleable__label-arrow:before {content: \"▸\";float: left;margin-right: 0.25em;color: #696969;}#sk-container-id-1 label.sk-toggleable__label-arrow:hover:before {color: black;}#sk-container-id-1 div.sk-estimator:hover label.sk-toggleable__label-arrow:before {color: black;}#sk-container-id-1 div.sk-toggleable__content {max-height: 0;max-width: 0;overflow: hidden;text-align: left;background-color: #f0f8ff;}#sk-container-id-1 div.sk-toggleable__content pre {margin: 0.2em;color: black;border-radius: 0.25em;background-color: #f0f8ff;}#sk-container-id-1 input.sk-toggleable__control:checked~div.sk-toggleable__content {max-height: 200px;max-width: 100%;overflow: auto;}#sk-container-id-1 input.sk-toggleable__control:checked~label.sk-toggleable__label-arrow:before {content: \"▾\";}#sk-container-id-1 div.sk-estimator input.sk-toggleable__control:checked~label.sk-toggleable__label {background-color: #d4ebff;}#sk-container-id-1 div.sk-label input.sk-toggleable__control:checked~label.sk-toggleable__label {background-color: #d4ebff;}#sk-container-id-1 input.sk-hidden--visually {border: 0;clip: rect(1px 1px 1px 1px);clip: rect(1px, 1px, 1px, 1px);height: 1px;margin: -1px;overflow: hidden;padding: 0;position: absolute;width: 1px;}#sk-container-id-1 div.sk-estimator {font-family: monospace;background-color: #f0f8ff;border: 1px dotted black;border-radius: 0.25em;box-sizing: border-box;margin-bottom: 0.5em;}#sk-container-id-1 div.sk-estimator:hover {background-color: #d4ebff;}#sk-container-id-1 div.sk-parallel-item::after {content: \"\";width: 100%;border-bottom: 1px solid gray;flex-grow: 1;}#sk-container-id-1 div.sk-label:hover label.sk-toggleable__label {background-color: #d4ebff;}#sk-container-id-1 div.sk-serial::before {content: \"\";position: absolute;border-left: 1px solid gray;box-sizing: border-box;top: 0;bottom: 0;left: 50%;z-index: 0;}#sk-container-id-1 div.sk-serial {display: flex;flex-direction: column;align-items: center;background-color: white;padding-right: 0.2em;padding-left: 0.2em;position: relative;}#sk-container-id-1 div.sk-item {position: relative;z-index: 1;}#sk-container-id-1 div.sk-parallel {display: flex;align-items: stretch;justify-content: center;background-color: white;position: relative;}#sk-container-id-1 div.sk-item::before, #sk-container-id-1 div.sk-parallel-item::before {content: \"\";position: absolute;border-left: 1px solid gray;box-sizing: border-box;top: 0;bottom: 0;left: 50%;z-index: -1;}#sk-container-id-1 div.sk-parallel-item {display: flex;flex-direction: column;z-index: 1;position: relative;background-color: white;}#sk-container-id-1 div.sk-parallel-item:first-child::after {align-self: flex-end;width: 50%;}#sk-container-id-1 div.sk-parallel-item:last-child::after {align-self: flex-start;width: 50%;}#sk-container-id-1 div.sk-parallel-item:only-child::after {width: 0;}#sk-container-id-1 div.sk-dashed-wrapped {border: 1px dashed gray;margin: 0 0.4em 0.5em 0.4em;box-sizing: border-box;padding-bottom: 0.4em;background-color: white;}#sk-container-id-1 div.sk-label label {font-family: monospace;font-weight: bold;display: inline-block;line-height: 1.2em;}#sk-container-id-1 div.sk-label-container {text-align: center;}#sk-container-id-1 div.sk-container {/* jupyter's `normalize.less` sets `[hidden] { display: none; }` but bootstrap.min.css set `[hidden] { display: none !important; }` so we also need the `!important` here to be able to override the default hidden behavior on the sphinx rendered scikit-learn.org. See: https://github.com/scikit-learn/scikit-learn/issues/21755 */display: inline-block !important;position: relative;}#sk-container-id-1 div.sk-text-repr-fallback {display: none;}</style><div id=\"sk-container-id-1\" class=\"sk-top-container\"><div class=\"sk-text-repr-fallback\"><pre>NearestNeighbors(algorithm=&#x27;brute&#x27;, metric=&#x27;cosine&#x27;)</pre><b>In a Jupyter environment, please rerun this cell to show the HTML representation or trust the notebook. <br />On GitHub, the HTML representation is unable to render, please try loading this page with nbviewer.org.</b></div><div class=\"sk-container\" hidden><div class=\"sk-item\"><div class=\"sk-estimator sk-toggleable\"><input class=\"sk-toggleable__control sk-hidden--visually\" id=\"sk-estimator-id-1\" type=\"checkbox\" checked><label for=\"sk-estimator-id-1\" class=\"sk-toggleable__label sk-toggleable__label-arrow\">NearestNeighbors</label><div class=\"sk-toggleable__content\"><pre>NearestNeighbors(algorithm=&#x27;brute&#x27;, metric=&#x27;cosine&#x27;)</pre></div></div></div></div></div>"
      ],
      "text/plain": [
       "NearestNeighbors(algorithm='brute', metric='cosine')"
      ]
     },
     "execution_count": 25,
     "metadata": {},
     "output_type": "execute_result"
    }
   ],
   "source": [
    "from sklearn.neighbors import NearestNeighbors\n",
    "\n",
    "knn = NearestNeighbors(metric='cosine', algorithm='brute')\n",
    "\n",
    "knn.fit(df_encoded_scaled)  "
   ]
  },
  {
   "cell_type": "code",
   "execution_count": 45,
   "id": "6e3f5d06-38b1-4302-95e5-0d48a4fb3f50",
   "metadata": {},
   "outputs": [
    {
     "name": "stdout",
     "output_type": "stream",
     "text": [
      "Input Movie: Insidious\n",
      "Overview: A family discovers that dark spirits have invaded their home after their son inexplicably falls into an endless sleep. When they reach out to a professional for help, they learn things are a lot more personal than they thought.\n",
      "\n",
      "Tagline: It's not the House that's Haunted.\n"
     ]
    },
    {
     "data": {
      "text/html": [
       "<img src=\"https://image.tmdb.org/t/p/originalhttps://image.tmdb.org/t/p/originalhttps://image.tmdb.org/t/p/originalhttps://image.tmdb.org/t/p/originalhttps://image.tmdb.org/t/p/originalhttps://image.tmdb.org/t/p/originalhttps://image.tmdb.org/t/p/original/tmlDFIUpGRKiuWm9Ixc6CYDk4y0.jpg\" width=\"200\"/>"
      ],
      "text/plain": [
       "<IPython.core.display.Image object>"
      ]
     },
     "metadata": {},
     "output_type": "display_data"
    },
    {
     "name": "stdout",
     "output_type": "stream",
     "text": [
      "\n",
      "Recommended Movies:\n",
      "\n",
      "Title: The Purge: Anarchy\n",
      "Overview: One night per year, the government sanctions a 12-hour period in which citizens can commit any crime they wish -- including murder -- without fear of punishment or imprisonment. Leo, a sergeant who lost his son, plans a vigilante mission of revenge during the mayhem. However, instead of a death-dealing avenger, he becomes the unexpected protector of four innocent strangers who desperately need his help if they are to survive the night.\n",
      "Tagline: Welcome to America where one night a year all crime is legal\n"
     ]
    },
    {
     "data": {
      "text/html": [
       "<img src=\"https://image.tmdb.org/t/p/originalhttps://image.tmdb.org/t/p/originalhttps://image.tmdb.org/t/p/originalhttps://image.tmdb.org/t/p/originalhttps://image.tmdb.org/t/p/originalhttps://image.tmdb.org/t/p/originalhttps://image.tmdb.org/t/p/original/f2HD5iVhJWWv72QVWThUKk09zYy.jpg\" width=\"200\"/>"
      ],
      "text/plain": [
       "<IPython.core.display.Image object>"
      ]
     },
     "metadata": {},
     "output_type": "display_data"
    },
    {
     "name": "stdout",
     "output_type": "stream",
     "text": [
      "\n",
      "\n",
      "Title: Halloween\n",
      "Overview: Fifteen years after murdering his sister on Halloween Night 1963, Michael Myers escapes from a mental hospital and returns to the small town of Haddonfield, Illinois to kill again.\n",
      "Tagline: The Night He Came Home!\n"
     ]
    },
    {
     "data": {
      "text/html": [
       "<img src=\"https://image.tmdb.org/t/p/originalhttps://image.tmdb.org/t/p/originalhttps://image.tmdb.org/t/p/originalhttps://image.tmdb.org/t/p/originalhttps://image.tmdb.org/t/p/originalhttps://image.tmdb.org/t/p/originalhttps://image.tmdb.org/t/p/original/wijlZ3HaYMvlDTPqJoTCWKFkCPU.jpg\" width=\"200\"/>"
      ],
      "text/plain": [
       "<IPython.core.display.Image object>"
      ]
     },
     "metadata": {},
     "output_type": "display_data"
    },
    {
     "name": "stdout",
     "output_type": "stream",
     "text": [
      "\n",
      "\n",
      "Title: Don't Breathe\n",
      "Overview: A group of teens break into a blind man's home thinking they'll get away with the perfect crime. They're wrong.\n",
      "Tagline: In the dark the blind man is king.\n"
     ]
    },
    {
     "data": {
      "text/html": [
       "<img src=\"https://image.tmdb.org/t/p/originalhttps://image.tmdb.org/t/p/originalhttps://image.tmdb.org/t/p/originalhttps://image.tmdb.org/t/p/originalhttps://image.tmdb.org/t/p/originalhttps://image.tmdb.org/t/p/originalhttps://image.tmdb.org/t/p/original/8fIgsHFQtg47xxN7SBwZkg0tZJn.jpg\" width=\"200\"/>"
      ],
      "text/plain": [
       "<IPython.core.display.Image object>"
      ]
     },
     "metadata": {},
     "output_type": "display_data"
    },
    {
     "name": "stdout",
     "output_type": "stream",
     "text": [
      "\n",
      "\n",
      "Title: Split\n",
      "Overview: Though Kevin has evidenced 23 personalities to his trusted psychiatrist, Dr. Fletcher, there remains one still submerged who is set to materialize and dominate all the others. Compelled to abduct three teenage girls led by the willful, observant Casey, Kevin reaches a war for survival among all of those contained within him — as well as everyone around him — as the walls between his compartments shatter apart.\n",
      "Tagline: Kevin has 23 distinct personalities. The 24th is about to be unleashed.\n"
     ]
    },
    {
     "data": {
      "text/html": [
       "<img src=\"https://image.tmdb.org/t/p/originalhttps://image.tmdb.org/t/p/originalhttps://image.tmdb.org/t/p/originalhttps://image.tmdb.org/t/p/originalhttps://image.tmdb.org/t/p/originalhttps://image.tmdb.org/t/p/originalhttps://image.tmdb.org/t/p/original/lli31lYTFpvxVBeFHWoe5PMfW5s.jpg\" width=\"200\"/>"
      ],
      "text/plain": [
       "<IPython.core.display.Image object>"
      ]
     },
     "metadata": {},
     "output_type": "display_data"
    },
    {
     "name": "stdout",
     "output_type": "stream",
     "text": [
      "\n",
      "\n",
      "Title: Ready or Not\n",
      "Overview: A bride's wedding night takes a sinister turn when her eccentric new in-laws force her to take part in a terrifying game.\n",
      "Tagline: In-laws will be the death of her.\n"
     ]
    },
    {
     "data": {
      "text/html": [
       "<img src=\"https://image.tmdb.org/t/p/originalhttps://image.tmdb.org/t/p/originalhttps://image.tmdb.org/t/p/originalhttps://image.tmdb.org/t/p/originalhttps://image.tmdb.org/t/p/originalhttps://image.tmdb.org/t/p/originalhttps://image.tmdb.org/t/p/original/vOl6shtL0wknjaIs6JdKCpcHvg8.jpg\" width=\"200\"/>"
      ],
      "text/plain": [
       "<IPython.core.display.Image object>"
      ]
     },
     "metadata": {},
     "output_type": "display_data"
    },
    {
     "name": "stdout",
     "output_type": "stream",
     "text": [
      "\n",
      "\n",
      "Title: Get Out\n",
      "Overview: Chris and his girlfriend Rose go upstate to visit her parents for the weekend. At first, Chris reads the family's overly accommodating behavior as nervous attempts to deal with their daughter's interracial relationship, but as the weekend progresses, a series of increasingly disturbing discoveries lead him to a truth that he never could have imagined.\n",
      "Tagline: Just because you're invited, doesn't mean you're welcome.\n"
     ]
    },
    {
     "data": {
      "text/html": [
       "<img src=\"https://image.tmdb.org/t/p/originalhttps://image.tmdb.org/t/p/originalhttps://image.tmdb.org/t/p/originalhttps://image.tmdb.org/t/p/originalhttps://image.tmdb.org/t/p/originalhttps://image.tmdb.org/t/p/originalhttps://image.tmdb.org/t/p/original/mE24wUCfjK8AoBBjaMjho7Rczr7.jpg\" width=\"200\"/>"
      ],
      "text/plain": [
       "<IPython.core.display.Image object>"
      ]
     },
     "metadata": {},
     "output_type": "display_data"
    },
    {
     "name": "stdout",
     "output_type": "stream",
     "text": [
      "\n",
      "\n",
      "Title: Black Swan\n",
      "Overview: A journey through the psyche of a young ballerina whose starring role as the duplicitous swan queen turns out to be a part for which she becomes frighteningly perfect.\n",
      "Tagline: nan\n"
     ]
    },
    {
     "data": {
      "text/html": [
       "<img src=\"https://image.tmdb.org/t/p/originalhttps://image.tmdb.org/t/p/originalhttps://image.tmdb.org/t/p/originalhttps://image.tmdb.org/t/p/originalhttps://image.tmdb.org/t/p/originalhttps://image.tmdb.org/t/p/originalhttps://image.tmdb.org/t/p/original/rH19vkjAzCZ0HIUvrgB3rowm68h.jpg\" width=\"200\"/>"
      ],
      "text/plain": [
       "<IPython.core.display.Image object>"
      ]
     },
     "metadata": {},
     "output_type": "display_data"
    },
    {
     "name": "stdout",
     "output_type": "stream",
     "text": [
      "\n",
      "\n",
      "Title: The Purge\n",
      "Overview: Given the country's overcrowded prisons, the U.S. government begins to allow 12-hour periods of time in which all illegal activity is legal. During one of these free-for-alls, a family must protect themselves from a home invasion.\n",
      "Tagline: One night a year, all crime is legal.\n"
     ]
    },
    {
     "data": {
      "text/html": [
       "<img src=\"https://image.tmdb.org/t/p/originalhttps://image.tmdb.org/t/p/originalhttps://image.tmdb.org/t/p/originalhttps://image.tmdb.org/t/p/originalhttps://image.tmdb.org/t/p/originalhttps://image.tmdb.org/t/p/originalhttps://image.tmdb.org/t/p/original/x6hwbnR2nGacSzljqYaXY25w1Me.jpg\" width=\"200\"/>"
      ],
      "text/plain": [
       "<IPython.core.display.Image object>"
      ]
     },
     "metadata": {},
     "output_type": "display_data"
    },
    {
     "name": "stdout",
     "output_type": "stream",
     "text": [
      "\n",
      "\n",
      "Title: The Conjuring\n",
      "Overview: Paranormal investigators Ed and Lorraine Warren work to help a family terrorized by a dark presence in their farmhouse. Forced to confront a powerful entity, the Warrens find themselves caught in the most terrifying case of their lives.\n",
      "Tagline: Based on the true case files of the Warrens\n"
     ]
    },
    {
     "data": {
      "text/html": [
       "<img src=\"https://image.tmdb.org/t/p/originalhttps://image.tmdb.org/t/p/originalhttps://image.tmdb.org/t/p/originalhttps://image.tmdb.org/t/p/originalhttps://image.tmdb.org/t/p/originalhttps://image.tmdb.org/t/p/originalhttps://image.tmdb.org/t/p/original/wVYREutTvI2tmxr6ujrHT704wGF.jpg\" width=\"200\"/>"
      ],
      "text/plain": [
       "<IPython.core.display.Image object>"
      ]
     },
     "metadata": {},
     "output_type": "display_data"
    },
    {
     "name": "stdout",
     "output_type": "stream",
     "text": [
      "\n",
      "\n",
      "Title: Taken\n",
      "Overview: While vacationing with a friend in Paris, an American girl is kidnapped by a gang of human traffickers intent on selling her into forced prostitution. Working against the clock, her ex-spy father must pull out all the stops to save her. But with his best years possibly behind him, the job may be more than he can handle.\n",
      "Tagline: They took his daughter.  He'll take their lives.\n"
     ]
    },
    {
     "data": {
      "text/html": [
       "<img src=\"https://image.tmdb.org/t/p/originalhttps://image.tmdb.org/t/p/originalhttps://image.tmdb.org/t/p/originalhttps://image.tmdb.org/t/p/originalhttps://image.tmdb.org/t/p/originalhttps://image.tmdb.org/t/p/originalhttps://image.tmdb.org/t/p/original/y5Va1WXDX6nZElVirPrGxf6w99B.jpg\" width=\"200\"/>"
      ],
      "text/plain": [
       "<IPython.core.display.Image object>"
      ]
     },
     "metadata": {},
     "output_type": "display_data"
    },
    {
     "name": "stdout",
     "output_type": "stream",
     "text": [
      "\n",
      "\n",
      "Title: Die Hard\n",
      "Overview: NYPD cop John McClane's plan to reconcile with his estranged wife is thrown for a serious loop when, minutes after he arrives at her office, the entire building is overtaken by a group of terrorists. With little help from the LAPD, wisecracking McClane sets out to single-handedly rescue the hostages and bring the bad guys down.\n",
      "Tagline: Twelve terrorists. One cop. The odds are against John McClane... That's just the way he likes it.\n"
     ]
    },
    {
     "data": {
      "text/html": [
       "<img src=\"https://image.tmdb.org/t/p/originalhttps://image.tmdb.org/t/p/originalhttps://image.tmdb.org/t/p/originalhttps://image.tmdb.org/t/p/originalhttps://image.tmdb.org/t/p/originalhttps://image.tmdb.org/t/p/originalhttps://image.tmdb.org/t/p/original/yFihWxQcmqcaBR31QM6Y8gT6aYV.jpg\" width=\"200\"/>"
      ],
      "text/plain": [
       "<IPython.core.display.Image object>"
      ]
     },
     "metadata": {},
     "output_type": "display_data"
    },
    {
     "name": "stdout",
     "output_type": "stream",
     "text": [
      "\n",
      "\n",
      "Title: No Country for Old Men\n",
      "Overview: Llewelyn Moss stumbles upon dead bodies, $2 million and a hoard of heroin in a Texas desert, but methodical killer Anton Chigurh comes looking for it, with local sheriff Ed Tom Bell hot on his trail. The roles of prey and predator blur as the violent pursuit of money and justice collide.\n",
      "Tagline: There are no clean getaways.\n"
     ]
    },
    {
     "data": {
      "text/html": [
       "<img src=\"https://image.tmdb.org/t/p/originalhttps://image.tmdb.org/t/p/originalhttps://image.tmdb.org/t/p/originalhttps://image.tmdb.org/t/p/originalhttps://image.tmdb.org/t/p/originalhttps://image.tmdb.org/t/p/originalhttps://image.tmdb.org/t/p/original/bj1v6YKF8yHqA489VFfnQvOJpnc.jpg\" width=\"200\"/>"
      ],
      "text/plain": [
       "<IPython.core.display.Image object>"
      ]
     },
     "metadata": {},
     "output_type": "display_data"
    },
    {
     "name": "stdout",
     "output_type": "stream",
     "text": [
      "\n",
      "\n",
      "Title: 10 Cloverfield Lane\n",
      "Overview: After getting in a car accident, a woman is held in a shelter with two men, who claim the outside world is affected by a widespread chemical attack.\n",
      "Tagline: Monsters come in many forms.\n"
     ]
    },
    {
     "data": {
      "text/html": [
       "<img src=\"https://image.tmdb.org/t/p/originalhttps://image.tmdb.org/t/p/originalhttps://image.tmdb.org/t/p/originalhttps://image.tmdb.org/t/p/originalhttps://image.tmdb.org/t/p/originalhttps://image.tmdb.org/t/p/originalhttps://image.tmdb.org/t/p/original/84Dhwz93vCin6T1PX6ctSvWEuNE.jpg\" width=\"200\"/>"
      ],
      "text/plain": [
       "<IPython.core.display.Image object>"
      ]
     },
     "metadata": {},
     "output_type": "display_data"
    },
    {
     "name": "stdout",
     "output_type": "stream",
     "text": [
      "\n",
      "\n",
      "Title: Evil Dead\n",
      "Overview: Five young friends find the mysterious and fiercely powerful Book of the Dead, and unable to resist its temptation, release a violent demon on a bloodthirsty quest to possess them all.\n",
      "Tagline: The most terrifying film you will ever experience.\n"
     ]
    },
    {
     "data": {
      "text/html": [
       "<img src=\"https://image.tmdb.org/t/p/originalhttps://image.tmdb.org/t/p/originalhttps://image.tmdb.org/t/p/originalhttps://image.tmdb.org/t/p/originalhttps://image.tmdb.org/t/p/originalhttps://image.tmdb.org/t/p/originalhttps://image.tmdb.org/t/p/original/1gDV0Lm9y8ufIKzyf0h0GBgb9Zj.jpg\" width=\"200\"/>"
      ],
      "text/plain": [
       "<IPython.core.display.Image object>"
      ]
     },
     "metadata": {},
     "output_type": "display_data"
    },
    {
     "name": "stdout",
     "output_type": "stream",
     "text": [
      "\n",
      "\n",
      "Title: Truth or Dare\n",
      "Overview: A harmless game of \"Truth or Dare\" among friends turns deadly when someone—or something—begins to punish those who tell a lie—or refuse the dare.\n",
      "Tagline: First you play the game, then the game plays you.\n"
     ]
    },
    {
     "data": {
      "text/html": [
       "<img src=\"https://image.tmdb.org/t/p/originalhttps://image.tmdb.org/t/p/originalhttps://image.tmdb.org/t/p/originalhttps://image.tmdb.org/t/p/originalhttps://image.tmdb.org/t/p/originalhttps://image.tmdb.org/t/p/originalhttps://image.tmdb.org/t/p/original/ei2waWQAG8NP244WShIFgGu9IOu.jpg\" width=\"200\"/>"
      ],
      "text/plain": [
       "<IPython.core.display.Image object>"
      ]
     },
     "metadata": {},
     "output_type": "display_data"
    },
    {
     "name": "stdout",
     "output_type": "stream",
     "text": [
      "\n",
      "\n"
     ]
    }
   ],
   "source": [
    "from IPython.display import Image, display\n",
    "\n",
    "base_url = \"https://image.tmdb.org/t/p/original\"\n",
    "df['poster_path'] = base_url + df['poster_path']\n",
    "\n",
    "def knn_recommendation(movie_title, k=15):\n",
    "    # Find the index of the movie in the original DataFrame based on its title\n",
    "    movie_index_original = df[df['title'] == movie_title].index\n",
    "    \n",
    "    if len(movie_index_original) == 0:\n",
    "        print(f\"Movie '{movie_title}' not found in the DataFrame.\")\n",
    "        return []  # Return an empty list if the movie title is not found in the DataFrame\n",
    "    \n",
    "    # Get the index of the movie in the original DataFrame\n",
    "    original_movie_index = movie_index_original[0]\n",
    "    \n",
    "    # Find the corresponding index in the scaled feature matrix (df_encoded_scaled)\n",
    "    movie_features = df_encoded_scaled[original_movie_index].reshape(1, -1)\n",
    "    \n",
    "    # Use KNN to find k nearest neighbors based on item-item similarity\n",
    "    distances, indices = knn.kneighbors(movie_features, n_neighbors=k + 1)  # +1 to exclude itself\n",
    "    \n",
    "    # Extract indices of recommended movies (excluding the queried movie itself)\n",
    "    indices = indices.flatten()[1:]  # Exclude the first index, which is the movie itself\n",
    "    \n",
    "    # Retrieve recommended movie titles, overviews, and poster paths using the indices from df\n",
    "    recommended_movies = df.iloc[indices][['title', 'overview', 'poster_path', 'tagline']]\n",
    "    \n",
    "    # Convert to a list of tuples (title, overview, poster_path)\n",
    "    recommended_movies_list = list(recommended_movies.itertuples(index=False, name=None))\n",
    "    \n",
    "    return recommended_movies_list[:k]\n",
    "\n",
    "def display_movie_details(movie_title, recommendations):\n",
    "    # Display the input movie's details\n",
    "    input_movie = df[df['title'] == movie_title].iloc[0]\n",
    "    print(f\"Input Movie: {movie_title}\\nOverview: {input_movie['overview']}\\n\\nTagline: {input_movie['tagline']}\")\n",
    "    display(Image(url=input_movie['poster_path'], width=200))\n",
    "    \n",
    "    # Display recommended movies\n",
    "    print(\"\\nRecommended Movies:\\n\")\n",
    "    for title, overview, poster_path, tagline in recommendations:\n",
    "        print(f\"Title: {title}\\nOverview: {overview}\\nTagline: {tagline}\")\n",
    "        display(Image(url=poster_path, width=200))\n",
    "        print(\"\\n\")\n",
    "\n",
    "# Example usage\n",
    "input_movie_title = \"Insidious\"\n",
    "recommendations = knn_recommendation(input_movie_title)\n",
    "display_movie_details(input_movie_title, recommendations)\n"
   ]
  },
  {
   "cell_type": "markdown",
   "id": "0cfee0c3-f599-4147-a51a-73704bc27875",
   "metadata": {},
   "source": [
    "# this is the part where i want to implement my second idea in this MRS which is the recommendation by genre"
   ]
  },
  {
   "cell_type": "code",
   "execution_count": 44,
   "id": "80864dcc-437a-4c9e-b33f-c5c714058095",
   "metadata": {},
   "outputs": [
    {
     "name": "stdout",
     "output_type": "stream",
     "text": [
      "Top Movies in Genre 'Action':\n",
      "\n",
      "Title: Avengers: Endgame\n",
      "Overview: After the devastating events of Avengers: Infinity War, the universe is in ruins due to the efforts of the Mad Titan, Thanos. With the help of remaining allies, the Avengers must assemble once more in order to undo Thanos' actions and restore order to the universe once and for all, no matter what consequences may be in store.\n",
      "Tagline: Avenge the fallen.\n"
     ]
    },
    {
     "data": {
      "text/html": [
       "<img src=\"https://image.tmdb.org/t/p/originalhttps://image.tmdb.org/t/p/originalhttps://image.tmdb.org/t/p/originalhttps://image.tmdb.org/t/p/originalhttps://image.tmdb.org/t/p/originalhttps://image.tmdb.org/t/p/original/or06FN3Dka5tukK1e9sl16pB3iy.jpg\" width=\"200\"/>"
      ],
      "text/plain": [
       "<IPython.core.display.Image object>"
      ]
     },
     "metadata": {},
     "output_type": "display_data"
    },
    {
     "name": "stdout",
     "output_type": "stream",
     "text": [
      "\n",
      "\n",
      "Title: Avatar\n",
      "Overview: In the 22nd century, a paraplegic Marine is dispatched to the moon Pandora on a unique mission, but becomes torn between following orders and protecting an alien civilization.\n",
      "Tagline: Enter the world of Pandora.\n"
     ]
    },
    {
     "data": {
      "text/html": [
       "<img src=\"https://image.tmdb.org/t/p/originalhttps://image.tmdb.org/t/p/originalhttps://image.tmdb.org/t/p/originalhttps://image.tmdb.org/t/p/originalhttps://image.tmdb.org/t/p/originalhttps://image.tmdb.org/t/p/original/kyeqWdyUXW608qlYkRqosgbbJyK.jpg\" width=\"200\"/>"
      ],
      "text/plain": [
       "<IPython.core.display.Image object>"
      ]
     },
     "metadata": {},
     "output_type": "display_data"
    },
    {
     "name": "stdout",
     "output_type": "stream",
     "text": [
      "\n",
      "\n",
      "Title: Avengers: Infinity War\n",
      "Overview: As the Avengers and their allies have continued to protect the world from threats too large for any one hero to handle, a new danger has emerged from the cosmic shadows: Thanos. A despot of intergalactic infamy, his goal is to collect all six Infinity Stones, artifacts of unimaginable power, and use them to inflict his twisted will on all of reality. Everything the Avengers have fought for has led up to this moment - the fate of Earth and existence itself has never been more uncertain.\n",
      "Tagline: An entire universe. Once and for all.\n"
     ]
    },
    {
     "data": {
      "text/html": [
       "<img src=\"https://image.tmdb.org/t/p/originalhttps://image.tmdb.org/t/p/originalhttps://image.tmdb.org/t/p/originalhttps://image.tmdb.org/t/p/originalhttps://image.tmdb.org/t/p/originalhttps://image.tmdb.org/t/p/original/7WsyChQLEftFiDOVTGkv3hFpyyt.jpg\" width=\"200\"/>"
      ],
      "text/plain": [
       "<IPython.core.display.Image object>"
      ]
     },
     "metadata": {},
     "output_type": "display_data"
    },
    {
     "name": "stdout",
     "output_type": "stream",
     "text": [
      "\n",
      "\n",
      "Title: Avatar: The Way of Water\n",
      "Overview: Set more than a decade after the events of the first film, learn the story of the Sully family (Jake, Neytiri, and their kids), the trouble that follows them, the lengths they go to keep each other safe, the battles they fight to stay alive, and the tragedies they endure.\n",
      "Tagline: Return to Pandora.\n"
     ]
    },
    {
     "data": {
      "text/html": [
       "<img src=\"https://image.tmdb.org/t/p/originalhttps://image.tmdb.org/t/p/originalhttps://image.tmdb.org/t/p/originalhttps://image.tmdb.org/t/p/originalhttps://image.tmdb.org/t/p/originalhttps://image.tmdb.org/t/p/original/t6HIqrRAclMCA60NsSmeqe9RmNV.jpg\" width=\"200\"/>"
      ],
      "text/plain": [
       "<IPython.core.display.Image object>"
      ]
     },
     "metadata": {},
     "output_type": "display_data"
    },
    {
     "name": "stdout",
     "output_type": "stream",
     "text": [
      "\n",
      "\n",
      "Title: The Avengers\n",
      "Overview: When an unexpected enemy emerges and threatens global safety and security, Nick Fury, director of the international peacekeeping agency known as S.H.I.E.L.D., finds himself in need of a team to pull the world back from the brink of disaster. Spanning the globe, a daring recruitment effort begins!\n",
      "Tagline: Some assembly required.\n"
     ]
    },
    {
     "data": {
      "text/html": [
       "<img src=\"https://image.tmdb.org/t/p/originalhttps://image.tmdb.org/t/p/originalhttps://image.tmdb.org/t/p/originalhttps://image.tmdb.org/t/p/originalhttps://image.tmdb.org/t/p/originalhttps://image.tmdb.org/t/p/original/RYMX2wcKCBAr24UyPD7xwmjaTn.jpg\" width=\"200\"/>"
      ],
      "text/plain": [
       "<IPython.core.display.Image object>"
      ]
     },
     "metadata": {},
     "output_type": "display_data"
    },
    {
     "name": "stdout",
     "output_type": "stream",
     "text": [
      "\n",
      "\n",
      "Title: Avengers: Age of Ultron\n",
      "Overview: When Tony Stark tries to jumpstart a dormant peacekeeping program, things go awry and Earth’s Mightiest Heroes are put to the ultimate test as the fate of the planet hangs in the balance. As the villainous Ultron emerges, it is up to The Avengers to stop him from enacting his terrible plans, and soon uneasy alliances and unexpected action pave the way for an epic and unique global adventure.\n",
      "Tagline: A new age has come.\n"
     ]
    },
    {
     "data": {
      "text/html": [
       "<img src=\"https://image.tmdb.org/t/p/originalhttps://image.tmdb.org/t/p/originalhttps://image.tmdb.org/t/p/originalhttps://image.tmdb.org/t/p/originalhttps://image.tmdb.org/t/p/originalhttps://image.tmdb.org/t/p/original/4ssDuvEDkSArWEdyBl2X5EHvYKU.jpg\" width=\"200\"/>"
      ],
      "text/plain": [
       "<IPython.core.display.Image object>"
      ]
     },
     "metadata": {},
     "output_type": "display_data"
    },
    {
     "name": "stdout",
     "output_type": "stream",
     "text": [
      "\n",
      "\n",
      "Title: The Dark Knight\n",
      "Overview: Batman raises the stakes in his war on crime. With the help of Lt. Jim Gordon and District Attorney Harvey Dent, Batman sets out to dismantle the remaining criminal organizations that plague the streets. The partnership proves to be effective, but they soon find themselves prey to a reign of chaos unleashed by a rising criminal mastermind known to the terrified citizens of Gotham as the Joker.\n",
      "Tagline: Welcome to a world without rules.\n"
     ]
    },
    {
     "data": {
      "text/html": [
       "<img src=\"https://image.tmdb.org/t/p/originalhttps://image.tmdb.org/t/p/originalhttps://image.tmdb.org/t/p/originalhttps://image.tmdb.org/t/p/originalhttps://image.tmdb.org/t/p/originalhttps://image.tmdb.org/t/p/original/qJ2tW6WMUDux911r6m7haRef0WH.jpg\" width=\"200\"/>"
      ],
      "text/plain": [
       "<IPython.core.display.Image object>"
      ]
     },
     "metadata": {},
     "output_type": "display_data"
    },
    {
     "name": "stdout",
     "output_type": "stream",
     "text": [
      "\n",
      "\n",
      "Title: Inception\n",
      "Overview: Cobb, a skilled thief who commits corporate espionage by infiltrating the subconscious of his targets is offered a chance to regain his old life as payment for a task considered to be impossible: \"inception\", the implantation of another person's idea into a target's subconscious.\n",
      "Tagline: Your mind is the scene of the crime.\n"
     ]
    },
    {
     "data": {
      "text/html": [
       "<img src=\"https://image.tmdb.org/t/p/originalhttps://image.tmdb.org/t/p/originalhttps://image.tmdb.org/t/p/originalhttps://image.tmdb.org/t/p/originalhttps://image.tmdb.org/t/p/originalhttps://image.tmdb.org/t/p/original/oYuLEt3zVCKq57qu2F8dT7NIa6f.jpg\" width=\"200\"/>"
      ],
      "text/plain": [
       "<IPython.core.display.Image object>"
      ]
     },
     "metadata": {},
     "output_type": "display_data"
    },
    {
     "name": "stdout",
     "output_type": "stream",
     "text": [
      "\n",
      "\n",
      "Title: Star Wars: The Force Awakens\n",
      "Overview: Thirty years after defeating the Galactic Empire, Han Solo and his allies face a new threat from the evil Kylo Ren and his army of Stormtroopers.\n",
      "Tagline: Every generation has a story.\n"
     ]
    },
    {
     "data": {
      "text/html": [
       "<img src=\"https://image.tmdb.org/t/p/originalhttps://image.tmdb.org/t/p/originalhttps://image.tmdb.org/t/p/originalhttps://image.tmdb.org/t/p/originalhttps://image.tmdb.org/t/p/originalhttps://image.tmdb.org/t/p/original/wqnLdwVXoBjKibFRR5U3y0aDUhs.jpg\" width=\"200\"/>"
      ],
      "text/plain": [
       "<IPython.core.display.Image object>"
      ]
     },
     "metadata": {},
     "output_type": "display_data"
    },
    {
     "name": "stdout",
     "output_type": "stream",
     "text": [
      "\n",
      "\n",
      "Title: Spider-Man: No Way Home\n",
      "Overview: Peter Parker is unmasked and no longer able to separate his normal life from the high-stakes of being a super-hero. When he asks for help from Doctor Strange the stakes become even more dangerous, forcing him to discover what it truly means to be Spider-Man.\n",
      "Tagline: The Multiverse unleashed.\n"
     ]
    },
    {
     "data": {
      "text/html": [
       "<img src=\"https://image.tmdb.org/t/p/originalhttps://image.tmdb.org/t/p/originalhttps://image.tmdb.org/t/p/originalhttps://image.tmdb.org/t/p/originalhttps://image.tmdb.org/t/p/originalhttps://image.tmdb.org/t/p/original/5weKu49pzJCt06OPpjvT80efnQj.jpg\" width=\"200\"/>"
      ],
      "text/plain": [
       "<IPython.core.display.Image object>"
      ]
     },
     "metadata": {},
     "output_type": "display_data"
    },
    {
     "name": "stdout",
     "output_type": "stream",
     "text": [
      "\n",
      "\n"
     ]
    }
   ],
   "source": [
    "def recommend_top_movies_by_genre(genre, top_n=10):\n",
    "    # Filter the DataFrame to include only movies from the specified genre\n",
    "    filtered_df = df[df['genres'].str.contains(genre, case=False, na=False)].copy()\n",
    "    \n",
    "    # Normalize the features (optional but recommended)\n",
    "    filtered_df.loc[:, 'normalized_popularity'] = (filtered_df['popularity'] - filtered_df['popularity'].min()) / (filtered_df['popularity'].max() - filtered_df['popularity'].min())\n",
    "    filtered_df.loc[:, 'normalized_revenue'] = (filtered_df['revenue'] - filtered_df['revenue'].min()) / (filtered_df['revenue'].max() - filtered_df['revenue'].min())\n",
    "    filtered_df.loc[:, 'normalized_vote_average'] = (filtered_df['vote_average'] - filtered_df['vote_average'].min()) / (filtered_df['vote_average'].max() - filtered_df['vote_average'].min())\n",
    "    filtered_df.loc[:, 'normalized_vote_count'] = (filtered_df['vote_count'] - filtered_df['vote_count'].min()) / (filtered_df['vote_count'].max() - filtered_df['vote_count'].min())\n",
    "    filtered_df.loc[:, 'normalized_budget'] = (filtered_df['budget'] - filtered_df['budget'].min()) / (filtered_df['budget'].max() - filtered_df['budget'].min())\n",
    "    \n",
    "    # Calculate a composite score (adjust weights as needed)\n",
    "    filtered_df.loc[:, 'composite_score'] = (\n",
    "        0.2 * filtered_df['normalized_popularity'] +\n",
    "        0.2 * filtered_df['normalized_revenue'] +\n",
    "        0.2 * filtered_df['normalized_vote_average'] +\n",
    "        0.2 * filtered_df['normalized_vote_count'] +\n",
    "        0.2 * filtered_df['normalized_budget']\n",
    "    )\n",
    "    \n",
    "    # Sort movies by the composite score in descending order\n",
    "    sorted_df = filtered_df.sort_values(by='composite_score', ascending=False)\n",
    "    \n",
    "    # Select the top N movies\n",
    "    top_movies = sorted_df.head(top_n)\n",
    "    \n",
    "    # Retrieve movie details\n",
    "    recommended_movies = top_movies[['title', 'overview', 'poster_path', 'tagline']]\n",
    "    \n",
    "    # Convert to list of tuples (title, overview, poster_path)\n",
    "    recommended_movies_list = list(recommended_movies.itertuples(index=False, name=None))\n",
    "    \n",
    "    return recommended_movies_list\n",
    "\n",
    "def display_genre_recommendations(genre, recommendations):\n",
    "    print(f\"Top Movies in Genre '{genre}':\\n\")\n",
    "    for title, overview, poster_path, tagline in recommendations:\n",
    "        print(f\"Title: {title}\\nOverview: {overview}\\nTagline: {tagline}\")\n",
    "        display(Image(url=poster_path, width=200))\n",
    "        print(\"\\n\")\n",
    "\n",
    "# Example usage\n",
    "input_genre = \"Action\"\n",
    "genre_recommendations = recommend_top_movies_by_genre(input_genre, top_n=10)\n",
    "display_genre_recommendations(input_genre, genre_recommendations)\n"
   ]
  },
  {
   "cell_type": "code",
   "execution_count": 46,
   "id": "b0affef3-8dad-4c01-8b17-a239db900f8a",
   "metadata": {},
   "outputs": [
    {
     "name": "stdout",
     "output_type": "stream",
     "text": [
      "Requirement already satisfied: flask in c:\\users\\compufast\\anaconda3\\lib\\site-packages (2.2.5)\n",
      "Collecting flask-cors\n",
      "  Downloading Flask_Cors-4.0.1-py2.py3-none-any.whl.metadata (5.5 kB)\n",
      "Requirement already satisfied: Werkzeug>=2.2.2 in c:\\users\\compufast\\anaconda3\\lib\\site-packages (from flask) (2.2.3)\n",
      "Requirement already satisfied: Jinja2>=3.0 in c:\\users\\compufast\\anaconda3\\lib\\site-packages (from flask) (3.1.3)\n",
      "Requirement already satisfied: itsdangerous>=2.0 in c:\\users\\compufast\\anaconda3\\lib\\site-packages (from flask) (2.0.1)\n",
      "Requirement already satisfied: click>=8.0 in c:\\users\\compufast\\anaconda3\\lib\\site-packages (from flask) (8.1.7)\n",
      "Requirement already satisfied: colorama in c:\\users\\compufast\\anaconda3\\lib\\site-packages (from click>=8.0->flask) (0.4.6)\n",
      "Requirement already satisfied: MarkupSafe>=2.0 in c:\\users\\compufast\\anaconda3\\lib\\site-packages (from Jinja2>=3.0->flask) (2.1.3)\n",
      "Downloading Flask_Cors-4.0.1-py2.py3-none-any.whl (14 kB)\n",
      "Installing collected packages: flask-cors\n",
      "Successfully installed flask-cors-4.0.1\n"
     ]
    }
   ],
   "source": [
    "!pip install flask flask-cors\n"
   ]
  },
  {
   "cell_type": "code",
   "execution_count": 47,
   "id": "b85c3574-eb41-44c5-8cbc-ce1af119500d",
   "metadata": {},
   "outputs": [
    {
     "name": "stdout",
     "output_type": "stream",
     "text": [
      "Requirement already satisfied: flask in c:\\users\\compufast\\anaconda3\\lib\\site-packages (2.2.5)\n",
      "Requirement already satisfied: flask-cors in c:\\users\\compufast\\anaconda3\\lib\\site-packages (4.0.1)\n",
      "Requirement already satisfied: Werkzeug>=2.2.2 in c:\\users\\compufast\\anaconda3\\lib\\site-packages (from flask) (2.2.3)\n",
      "Requirement already satisfied: Jinja2>=3.0 in c:\\users\\compufast\\anaconda3\\lib\\site-packages (from flask) (3.1.3)\n",
      "Requirement already satisfied: itsdangerous>=2.0 in c:\\users\\compufast\\anaconda3\\lib\\site-packages (from flask) (2.0.1)\n",
      "Requirement already satisfied: click>=8.0 in c:\\users\\compufast\\anaconda3\\lib\\site-packages (from flask) (8.1.7)\n",
      "Requirement already satisfied: colorama in c:\\users\\compufast\\anaconda3\\lib\\site-packages (from click>=8.0->flask) (0.4.6)\n",
      "Requirement already satisfied: MarkupSafe>=2.0 in c:\\users\\compufast\\anaconda3\\lib\\site-packages (from Jinja2>=3.0->flask) (2.1.3)\n"
     ]
    }
   ],
   "source": [
    "# Install Flask and Flask-CORS if not already installed\n",
    "!pip install flask flask-cors\n"
   ]
  },
  {
   "cell_type": "code",
   "execution_count": 48,
   "id": "8fa09f98-9254-4775-a652-ce7c8b32c547",
   "metadata": {},
   "outputs": [
    {
     "name": "stdout",
     "output_type": "stream",
     "text": [
      " * Serving Flask app '__main__'\n",
      " * Debug mode: on\n"
     ]
    },
    {
     "name": "stderr",
     "output_type": "stream",
     "text": [
      "WARNING: This is a development server. Do not use it in a production deployment. Use a production WSGI server instead.\n",
      " * Running on http://127.0.0.1:5000\n",
      "Press CTRL+C to quit\n",
      "Exception in thread Thread-9 (run_app):\n",
      "Traceback (most recent call last):\n",
      "  File \"C:\\Users\\CompuFast\\anaconda3\\Lib\\threading.py\", line 1045, in _bootstrap_inner\n",
      "    self.run()\n",
      "  File \"C:\\Users\\CompuFast\\anaconda3\\Lib\\threading.py\", line 982, in run\n",
      "    self._target(*self._args, **self._kwargs)\n",
      "  File \"C:\\Users\\CompuFast\\AppData\\Local\\Temp\\ipykernel_14824\\468153211.py\", line 32, in run_app\n",
      "  File \"C:\\Users\\CompuFast\\anaconda3\\Lib\\site-packages\\flask\\app.py\", line 1191, in run\n",
      "    run_simple(t.cast(str, host), port, self, **options)\n",
      "  File \"C:\\Users\\CompuFast\\anaconda3\\Lib\\site-packages\\werkzeug\\serving.py\", line 1059, in run_simple\n",
      "    run_with_reloader(\n",
      "  File \"C:\\Users\\CompuFast\\anaconda3\\Lib\\site-packages\\werkzeug\\_reloader.py\", line 427, in run_with_reloader\n",
      "    signal.signal(signal.SIGTERM, lambda *args: sys.exit(0))\n",
      "  File \"C:\\Users\\CompuFast\\anaconda3\\Lib\\signal.py\", line 56, in signal\n",
      "    handler = _signal.signal(_enum_to_int(signalnum), _enum_to_int(handler))\n",
      "              ^^^^^^^^^^^^^^^^^^^^^^^^^^^^^^^^^^^^^^^^^^^^^^^^^^^^^^^^^^^^^^\n",
      "ValueError: signal only works in main thread of the main interpreter\n"
     ]
    }
   ],
   "source": [
    "from flask import Flask, request, jsonify\n",
    "from flask_cors import CORS\n",
    "from threading import Thread\n",
    "\n",
    "app = Flask(__name__)\n",
    "CORS(app)  # Enable CORS for all routes\n",
    "\n",
    "@app.route('/recommendations', methods=['GET'])\n",
    "def recommendations():\n",
    "    movie_title = request.args.get('title')\n",
    "    if not movie_title:\n",
    "        return jsonify({'error': 'No title provided'}), 400\n",
    "\n",
    "    # Call your recommendation function here\n",
    "    recommended_movies = knn_recommendation(movie_title)\n",
    "    return jsonify(recommended_movies)\n",
    "\n",
    "def knn_recommendation(movie_title, k=15):\n",
    "    # Example implementation of recommendation logic\n",
    "    recommended_movies_list = [\n",
    "        {\n",
    "            'title': 'Movie Title 1',\n",
    "            'overview': 'Overview of Movie Title 1',\n",
    "            'poster_path': 'https://image.tmdb.org/t/p/original/path_to_poster_1.jpg',\n",
    "            'tagline': 'Tagline of Movie Title 1'\n",
    "        },\n",
    "        # Add more movies as needed\n",
    "    ]\n",
    "    return recommended_movies_list[:k]\n",
    "\n",
    "def run_app():\n",
    "    app.run(port=5000, debug=True)\n",
    "\n",
    "# Run Flask app in a separate thread\n",
    "thread = Thread(target=run_app)\n",
    "thread.start()\n"
   ]
  }
 ],
 "metadata": {
  "kernelspec": {
   "display_name": "Python 3 (ipykernel)",
   "language": "python",
   "name": "python3"
  },
  "language_info": {
   "codemirror_mode": {
    "name": "ipython",
    "version": 3
   },
   "file_extension": ".py",
   "mimetype": "text/x-python",
   "name": "python",
   "nbconvert_exporter": "python",
   "pygments_lexer": "ipython3",
   "version": "3.11.7"
  }
 },
 "nbformat": 4,
 "nbformat_minor": 5
}
